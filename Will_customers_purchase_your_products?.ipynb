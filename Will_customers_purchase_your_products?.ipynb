{
  "nbformat": 4,
  "nbformat_minor": 0,
  "metadata": {
    "colab": {
      "provenance": [],
      "authorship_tag": "ABX9TyNYIfuR8B1qnqt4tikJKmue",
      "include_colab_link": true
    },
    "kernelspec": {
      "name": "python3",
      "display_name": "Python 3"
    },
    "language_info": {
      "name": "python"
    }
  },
  "cells": [
    {
      "cell_type": "markdown",
      "metadata": {
        "id": "view-in-github",
        "colab_type": "text"
      },
      "source": [
        "<a href=\"https://colab.research.google.com/github/StephanieApaza/will_customers_purchase_your_product/blob/main/Will_customers_purchase_your_products%3F.ipynb\" target=\"_parent\"><img src=\"https://colab.research.google.com/assets/colab-badge.svg\" alt=\"Open In Colab\"/></a>"
      ]
    },
    {
      "cell_type": "code",
      "execution_count": 2,
      "metadata": {
        "id": "sQiGD0bvy7Rj"
      },
      "outputs": [],
      "source": [
        "# Import libraries\n",
        "import pandas as pd\n",
        "import numpy as np\n",
        "import matplotlib.pyplot as plt\n",
        "from scipy import stats"
      ]
    },
    {
      "cell_type": "code",
      "source": [
        "shopping_data = pd.read_csv(\"online_shopping_session_data.csv\")\n",
        "shopping_data.head()"
      ],
      "metadata": {
        "colab": {
          "base_uri": "https://localhost:8080/",
          "height": 226
        },
        "id": "hn_jXQ_a0Pwm",
        "outputId": "349e4427-ff5a-4fd8-8fc5-a2b3ccb16ceb"
      },
      "execution_count": 3,
      "outputs": [
        {
          "output_type": "execute_result",
          "data": {
            "text/plain": [
              "   SessionID  Administrative  Administrative_Duration  Informational  \\\n",
              "0          1               0                      0.0              0   \n",
              "1          2               0                      0.0              0   \n",
              "2          3               0                      0.0              0   \n",
              "3          4               0                      0.0              0   \n",
              "4          5               0                      0.0              0   \n",
              "\n",
              "   Informational_Duration  ProductRelated  ProductRelated_Duration  \\\n",
              "0                     0.0               1                 0.000000   \n",
              "1                     0.0               2                64.000000   \n",
              "2                     0.0               1                 0.000000   \n",
              "3                     0.0               2                 2.666667   \n",
              "4                     0.0              10               627.500000   \n",
              "\n",
              "   BounceRates  ExitRates  PageValues  SpecialDay  Weekend Month  \\\n",
              "0         0.20       0.20         0.0         0.0    False   Feb   \n",
              "1         0.00       0.10         0.0         0.0    False   Feb   \n",
              "2         0.20       0.20         0.0         0.0    False   Feb   \n",
              "3         0.05       0.14         0.0         0.0    False   Feb   \n",
              "4         0.02       0.05         0.0         0.0     True   Feb   \n",
              "\n",
              "         CustomerType  Purchase  \n",
              "0  Returning_Customer       0.0  \n",
              "1  Returning_Customer       0.0  \n",
              "2  Returning_Customer       0.0  \n",
              "3  Returning_Customer       0.0  \n",
              "4  Returning_Customer       0.0  "
            ],
            "text/html": [
              "\n",
              "  <div id=\"df-e249128d-84e9-4f2b-9510-332261936be5\" class=\"colab-df-container\">\n",
              "    <div>\n",
              "<style scoped>\n",
              "    .dataframe tbody tr th:only-of-type {\n",
              "        vertical-align: middle;\n",
              "    }\n",
              "\n",
              "    .dataframe tbody tr th {\n",
              "        vertical-align: top;\n",
              "    }\n",
              "\n",
              "    .dataframe thead th {\n",
              "        text-align: right;\n",
              "    }\n",
              "</style>\n",
              "<table border=\"1\" class=\"dataframe\">\n",
              "  <thead>\n",
              "    <tr style=\"text-align: right;\">\n",
              "      <th></th>\n",
              "      <th>SessionID</th>\n",
              "      <th>Administrative</th>\n",
              "      <th>Administrative_Duration</th>\n",
              "      <th>Informational</th>\n",
              "      <th>Informational_Duration</th>\n",
              "      <th>ProductRelated</th>\n",
              "      <th>ProductRelated_Duration</th>\n",
              "      <th>BounceRates</th>\n",
              "      <th>ExitRates</th>\n",
              "      <th>PageValues</th>\n",
              "      <th>SpecialDay</th>\n",
              "      <th>Weekend</th>\n",
              "      <th>Month</th>\n",
              "      <th>CustomerType</th>\n",
              "      <th>Purchase</th>\n",
              "    </tr>\n",
              "  </thead>\n",
              "  <tbody>\n",
              "    <tr>\n",
              "      <th>0</th>\n",
              "      <td>1</td>\n",
              "      <td>0</td>\n",
              "      <td>0.0</td>\n",
              "      <td>0</td>\n",
              "      <td>0.0</td>\n",
              "      <td>1</td>\n",
              "      <td>0.000000</td>\n",
              "      <td>0.20</td>\n",
              "      <td>0.20</td>\n",
              "      <td>0.0</td>\n",
              "      <td>0.0</td>\n",
              "      <td>False</td>\n",
              "      <td>Feb</td>\n",
              "      <td>Returning_Customer</td>\n",
              "      <td>0.0</td>\n",
              "    </tr>\n",
              "    <tr>\n",
              "      <th>1</th>\n",
              "      <td>2</td>\n",
              "      <td>0</td>\n",
              "      <td>0.0</td>\n",
              "      <td>0</td>\n",
              "      <td>0.0</td>\n",
              "      <td>2</td>\n",
              "      <td>64.000000</td>\n",
              "      <td>0.00</td>\n",
              "      <td>0.10</td>\n",
              "      <td>0.0</td>\n",
              "      <td>0.0</td>\n",
              "      <td>False</td>\n",
              "      <td>Feb</td>\n",
              "      <td>Returning_Customer</td>\n",
              "      <td>0.0</td>\n",
              "    </tr>\n",
              "    <tr>\n",
              "      <th>2</th>\n",
              "      <td>3</td>\n",
              "      <td>0</td>\n",
              "      <td>0.0</td>\n",
              "      <td>0</td>\n",
              "      <td>0.0</td>\n",
              "      <td>1</td>\n",
              "      <td>0.000000</td>\n",
              "      <td>0.20</td>\n",
              "      <td>0.20</td>\n",
              "      <td>0.0</td>\n",
              "      <td>0.0</td>\n",
              "      <td>False</td>\n",
              "      <td>Feb</td>\n",
              "      <td>Returning_Customer</td>\n",
              "      <td>0.0</td>\n",
              "    </tr>\n",
              "    <tr>\n",
              "      <th>3</th>\n",
              "      <td>4</td>\n",
              "      <td>0</td>\n",
              "      <td>0.0</td>\n",
              "      <td>0</td>\n",
              "      <td>0.0</td>\n",
              "      <td>2</td>\n",
              "      <td>2.666667</td>\n",
              "      <td>0.05</td>\n",
              "      <td>0.14</td>\n",
              "      <td>0.0</td>\n",
              "      <td>0.0</td>\n",
              "      <td>False</td>\n",
              "      <td>Feb</td>\n",
              "      <td>Returning_Customer</td>\n",
              "      <td>0.0</td>\n",
              "    </tr>\n",
              "    <tr>\n",
              "      <th>4</th>\n",
              "      <td>5</td>\n",
              "      <td>0</td>\n",
              "      <td>0.0</td>\n",
              "      <td>0</td>\n",
              "      <td>0.0</td>\n",
              "      <td>10</td>\n",
              "      <td>627.500000</td>\n",
              "      <td>0.02</td>\n",
              "      <td>0.05</td>\n",
              "      <td>0.0</td>\n",
              "      <td>0.0</td>\n",
              "      <td>True</td>\n",
              "      <td>Feb</td>\n",
              "      <td>Returning_Customer</td>\n",
              "      <td>0.0</td>\n",
              "    </tr>\n",
              "  </tbody>\n",
              "</table>\n",
              "</div>\n",
              "    <div class=\"colab-df-buttons\">\n",
              "\n",
              "  <div class=\"colab-df-container\">\n",
              "    <button class=\"colab-df-convert\" onclick=\"convertToInteractive('df-e249128d-84e9-4f2b-9510-332261936be5')\"\n",
              "            title=\"Convert this dataframe to an interactive table.\"\n",
              "            style=\"display:none;\">\n",
              "\n",
              "  <svg xmlns=\"http://www.w3.org/2000/svg\" height=\"24px\" viewBox=\"0 -960 960 960\">\n",
              "    <path d=\"M120-120v-720h720v720H120Zm60-500h600v-160H180v160Zm220 220h160v-160H400v160Zm0 220h160v-160H400v160ZM180-400h160v-160H180v160Zm440 0h160v-160H620v160ZM180-180h160v-160H180v160Zm440 0h160v-160H620v160Z\"/>\n",
              "  </svg>\n",
              "    </button>\n",
              "\n",
              "  <style>\n",
              "    .colab-df-container {\n",
              "      display:flex;\n",
              "      gap: 12px;\n",
              "    }\n",
              "\n",
              "    .colab-df-convert {\n",
              "      background-color: #E8F0FE;\n",
              "      border: none;\n",
              "      border-radius: 50%;\n",
              "      cursor: pointer;\n",
              "      display: none;\n",
              "      fill: #1967D2;\n",
              "      height: 32px;\n",
              "      padding: 0 0 0 0;\n",
              "      width: 32px;\n",
              "    }\n",
              "\n",
              "    .colab-df-convert:hover {\n",
              "      background-color: #E2EBFA;\n",
              "      box-shadow: 0px 1px 2px rgba(60, 64, 67, 0.3), 0px 1px 3px 1px rgba(60, 64, 67, 0.15);\n",
              "      fill: #174EA6;\n",
              "    }\n",
              "\n",
              "    .colab-df-buttons div {\n",
              "      margin-bottom: 4px;\n",
              "    }\n",
              "\n",
              "    [theme=dark] .colab-df-convert {\n",
              "      background-color: #3B4455;\n",
              "      fill: #D2E3FC;\n",
              "    }\n",
              "\n",
              "    [theme=dark] .colab-df-convert:hover {\n",
              "      background-color: #434B5C;\n",
              "      box-shadow: 0px 1px 3px 1px rgba(0, 0, 0, 0.15);\n",
              "      filter: drop-shadow(0px 1px 2px rgba(0, 0, 0, 0.3));\n",
              "      fill: #FFFFFF;\n",
              "    }\n",
              "  </style>\n",
              "\n",
              "    <script>\n",
              "      const buttonEl =\n",
              "        document.querySelector('#df-e249128d-84e9-4f2b-9510-332261936be5 button.colab-df-convert');\n",
              "      buttonEl.style.display =\n",
              "        google.colab.kernel.accessAllowed ? 'block' : 'none';\n",
              "\n",
              "      async function convertToInteractive(key) {\n",
              "        const element = document.querySelector('#df-e249128d-84e9-4f2b-9510-332261936be5');\n",
              "        const dataTable =\n",
              "          await google.colab.kernel.invokeFunction('convertToInteractive',\n",
              "                                                    [key], {});\n",
              "        if (!dataTable) return;\n",
              "\n",
              "        const docLinkHtml = 'Like what you see? Visit the ' +\n",
              "          '<a target=\"_blank\" href=https://colab.research.google.com/notebooks/data_table.ipynb>data table notebook</a>'\n",
              "          + ' to learn more about interactive tables.';\n",
              "        element.innerHTML = '';\n",
              "        dataTable['output_type'] = 'display_data';\n",
              "        await google.colab.output.renderOutput(dataTable, element);\n",
              "        const docLink = document.createElement('div');\n",
              "        docLink.innerHTML = docLinkHtml;\n",
              "        element.appendChild(docLink);\n",
              "      }\n",
              "    </script>\n",
              "  </div>\n",
              "\n",
              "\n",
              "    <div id=\"df-b27edd52-6eea-43ee-973f-14f18848151a\">\n",
              "      <button class=\"colab-df-quickchart\" onclick=\"quickchart('df-b27edd52-6eea-43ee-973f-14f18848151a')\"\n",
              "                title=\"Suggest charts\"\n",
              "                style=\"display:none;\">\n",
              "\n",
              "<svg xmlns=\"http://www.w3.org/2000/svg\" height=\"24px\"viewBox=\"0 0 24 24\"\n",
              "     width=\"24px\">\n",
              "    <g>\n",
              "        <path d=\"M19 3H5c-1.1 0-2 .9-2 2v14c0 1.1.9 2 2 2h14c1.1 0 2-.9 2-2V5c0-1.1-.9-2-2-2zM9 17H7v-7h2v7zm4 0h-2V7h2v10zm4 0h-2v-4h2v4z\"/>\n",
              "    </g>\n",
              "</svg>\n",
              "      </button>\n",
              "\n",
              "<style>\n",
              "  .colab-df-quickchart {\n",
              "      --bg-color: #E8F0FE;\n",
              "      --fill-color: #1967D2;\n",
              "      --hover-bg-color: #E2EBFA;\n",
              "      --hover-fill-color: #174EA6;\n",
              "      --disabled-fill-color: #AAA;\n",
              "      --disabled-bg-color: #DDD;\n",
              "  }\n",
              "\n",
              "  [theme=dark] .colab-df-quickchart {\n",
              "      --bg-color: #3B4455;\n",
              "      --fill-color: #D2E3FC;\n",
              "      --hover-bg-color: #434B5C;\n",
              "      --hover-fill-color: #FFFFFF;\n",
              "      --disabled-bg-color: #3B4455;\n",
              "      --disabled-fill-color: #666;\n",
              "  }\n",
              "\n",
              "  .colab-df-quickchart {\n",
              "    background-color: var(--bg-color);\n",
              "    border: none;\n",
              "    border-radius: 50%;\n",
              "    cursor: pointer;\n",
              "    display: none;\n",
              "    fill: var(--fill-color);\n",
              "    height: 32px;\n",
              "    padding: 0;\n",
              "    width: 32px;\n",
              "  }\n",
              "\n",
              "  .colab-df-quickchart:hover {\n",
              "    background-color: var(--hover-bg-color);\n",
              "    box-shadow: 0 1px 2px rgba(60, 64, 67, 0.3), 0 1px 3px 1px rgba(60, 64, 67, 0.15);\n",
              "    fill: var(--button-hover-fill-color);\n",
              "  }\n",
              "\n",
              "  .colab-df-quickchart-complete:disabled,\n",
              "  .colab-df-quickchart-complete:disabled:hover {\n",
              "    background-color: var(--disabled-bg-color);\n",
              "    fill: var(--disabled-fill-color);\n",
              "    box-shadow: none;\n",
              "  }\n",
              "\n",
              "  .colab-df-spinner {\n",
              "    border: 2px solid var(--fill-color);\n",
              "    border-color: transparent;\n",
              "    border-bottom-color: var(--fill-color);\n",
              "    animation:\n",
              "      spin 1s steps(1) infinite;\n",
              "  }\n",
              "\n",
              "  @keyframes spin {\n",
              "    0% {\n",
              "      border-color: transparent;\n",
              "      border-bottom-color: var(--fill-color);\n",
              "      border-left-color: var(--fill-color);\n",
              "    }\n",
              "    20% {\n",
              "      border-color: transparent;\n",
              "      border-left-color: var(--fill-color);\n",
              "      border-top-color: var(--fill-color);\n",
              "    }\n",
              "    30% {\n",
              "      border-color: transparent;\n",
              "      border-left-color: var(--fill-color);\n",
              "      border-top-color: var(--fill-color);\n",
              "      border-right-color: var(--fill-color);\n",
              "    }\n",
              "    40% {\n",
              "      border-color: transparent;\n",
              "      border-right-color: var(--fill-color);\n",
              "      border-top-color: var(--fill-color);\n",
              "    }\n",
              "    60% {\n",
              "      border-color: transparent;\n",
              "      border-right-color: var(--fill-color);\n",
              "    }\n",
              "    80% {\n",
              "      border-color: transparent;\n",
              "      border-right-color: var(--fill-color);\n",
              "      border-bottom-color: var(--fill-color);\n",
              "    }\n",
              "    90% {\n",
              "      border-color: transparent;\n",
              "      border-bottom-color: var(--fill-color);\n",
              "    }\n",
              "  }\n",
              "</style>\n",
              "\n",
              "      <script>\n",
              "        async function quickchart(key) {\n",
              "          const quickchartButtonEl =\n",
              "            document.querySelector('#' + key + ' button');\n",
              "          quickchartButtonEl.disabled = true;  // To prevent multiple clicks.\n",
              "          quickchartButtonEl.classList.add('colab-df-spinner');\n",
              "          try {\n",
              "            const charts = await google.colab.kernel.invokeFunction(\n",
              "                'suggestCharts', [key], {});\n",
              "          } catch (error) {\n",
              "            console.error('Error during call to suggestCharts:', error);\n",
              "          }\n",
              "          quickchartButtonEl.classList.remove('colab-df-spinner');\n",
              "          quickchartButtonEl.classList.add('colab-df-quickchart-complete');\n",
              "        }\n",
              "        (() => {\n",
              "          let quickchartButtonEl =\n",
              "            document.querySelector('#df-b27edd52-6eea-43ee-973f-14f18848151a button');\n",
              "          quickchartButtonEl.style.display =\n",
              "            google.colab.kernel.accessAllowed ? 'block' : 'none';\n",
              "        })();\n",
              "      </script>\n",
              "    </div>\n",
              "\n",
              "    </div>\n",
              "  </div>\n"
            ],
            "application/vnd.google.colaboratory.intrinsic+json": {
              "type": "dataframe",
              "variable_name": "shopping_data",
              "summary": "{\n  \"name\": \"shopping_data\",\n  \"rows\": 12055,\n  \"fields\": [\n    {\n      \"column\": \"SessionID\",\n      \"properties\": {\n        \"dtype\": \"number\",\n        \"std\": 3480,\n        \"min\": 1,\n        \"max\": 12055,\n        \"num_unique_values\": 12055,\n        \"samples\": [\n          11143,\n          2341,\n          3636\n        ],\n        \"semantic_type\": \"\",\n        \"description\": \"\"\n      }\n    },\n    {\n      \"column\": \"Administrative\",\n      \"properties\": {\n        \"dtype\": \"number\",\n        \"std\": 3,\n        \"min\": 0,\n        \"max\": 27,\n        \"num_unique_values\": 26,\n        \"samples\": [\n          5,\n          14,\n          0\n        ],\n        \"semantic_type\": \"\",\n        \"description\": \"\"\n      }\n    },\n    {\n      \"column\": \"Administrative_Duration\",\n      \"properties\": {\n        \"dtype\": \"number\",\n        \"std\": 175.76602543016,\n        \"min\": 0.0,\n        \"max\": 3398.75,\n        \"num_unique_values\": 3285,\n        \"samples\": [\n          1251.2,\n          158.5952381,\n          168.9066667\n        ],\n        \"semantic_type\": \"\",\n        \"description\": \"\"\n      }\n    },\n    {\n      \"column\": \"Informational\",\n      \"properties\": {\n        \"dtype\": \"number\",\n        \"std\": 1,\n        \"min\": 0,\n        \"max\": 24,\n        \"num_unique_values\": 17,\n        \"samples\": [\n          0,\n          1,\n          5\n        ],\n        \"semantic_type\": \"\",\n        \"description\": \"\"\n      }\n    },\n    {\n      \"column\": \"Informational_Duration\",\n      \"properties\": {\n        \"dtype\": \"number\",\n        \"std\": 141.57399985817543,\n        \"min\": 0.0,\n        \"max\": 2549.375,\n        \"num_unique_values\": 1240,\n        \"samples\": [\n          516.0,\n          394.0,\n          216.0\n        ],\n        \"semantic_type\": \"\",\n        \"description\": \"\"\n      }\n    },\n    {\n      \"column\": \"ProductRelated\",\n      \"properties\": {\n        \"dtype\": \"number\",\n        \"std\": 44,\n        \"min\": 0,\n        \"max\": 705,\n        \"num_unique_values\": 306,\n        \"samples\": [\n          223,\n          133,\n          95\n        ],\n        \"semantic_type\": \"\",\n        \"description\": \"\"\n      }\n    },\n    {\n      \"column\": \"ProductRelated_Duration\",\n      \"properties\": {\n        \"dtype\": \"number\",\n        \"std\": 1912.5216298132145,\n        \"min\": 0.0,\n        \"max\": 63973.52223,\n        \"num_unique_values\": 9376,\n        \"samples\": [\n          5577.826456,\n          394.8,\n          7243.649316\n        ],\n        \"semantic_type\": \"\",\n        \"description\": \"\"\n      }\n    },\n    {\n      \"column\": \"BounceRates\",\n      \"properties\": {\n        \"dtype\": \"number\",\n        \"std\": 0.048276702462250305,\n        \"min\": 0.0,\n        \"max\": 0.2,\n        \"num_unique_values\": 1841,\n        \"samples\": [\n          0.012037037,\n          0.018785882,\n          0.053968254\n        ],\n        \"semantic_type\": \"\",\n        \"description\": \"\"\n      }\n    },\n    {\n      \"column\": \"ExitRates\",\n      \"properties\": {\n        \"dtype\": \"number\",\n        \"std\": 0.04846770339869619,\n        \"min\": 0.0,\n        \"max\": 0.2,\n        \"num_unique_values\": 4694,\n        \"samples\": [\n          0.011494253,\n          0.064782609,\n          0.012380952\n        ],\n        \"semantic_type\": \"\",\n        \"description\": \"\"\n      }\n    },\n    {\n      \"column\": \"PageValues\",\n      \"properties\": {\n        \"dtype\": \"number\",\n        \"std\": 18.0747417516583,\n        \"min\": 0.0,\n        \"max\": 361.7637419,\n        \"num_unique_values\": 2641,\n        \"samples\": [\n          56.1773806,\n          16.14384,\n          57.03508179\n        ],\n        \"semantic_type\": \"\",\n        \"description\": \"\"\n      }\n    },\n    {\n      \"column\": \"SpecialDay\",\n      \"properties\": {\n        \"dtype\": \"number\",\n        \"std\": 0.20095457059971816,\n        \"min\": 0.0,\n        \"max\": 1.0,\n        \"num_unique_values\": 6,\n        \"samples\": [\n          0.0,\n          0.4,\n          0.6\n        ],\n        \"semantic_type\": \"\",\n        \"description\": \"\"\n      }\n    },\n    {\n      \"column\": \"Weekend\",\n      \"properties\": {\n        \"dtype\": \"boolean\",\n        \"num_unique_values\": 2,\n        \"samples\": [\n          true,\n          false\n        ],\n        \"semantic_type\": \"\",\n        \"description\": \"\"\n      }\n    },\n    {\n      \"column\": \"Month\",\n      \"properties\": {\n        \"dtype\": \"category\",\n        \"num_unique_values\": 11,\n        \"samples\": [\n          \"Jul\",\n          \"Feb\"\n        ],\n        \"semantic_type\": \"\",\n        \"description\": \"\"\n      }\n    },\n    {\n      \"column\": \"CustomerType\",\n      \"properties\": {\n        \"dtype\": \"category\",\n        \"num_unique_values\": 2,\n        \"samples\": [\n          \"New_Customer\",\n          \"Returning_Customer\"\n        ],\n        \"semantic_type\": \"\",\n        \"description\": \"\"\n      }\n    },\n    {\n      \"column\": \"Purchase\",\n      \"properties\": {\n        \"dtype\": \"number\",\n        \"std\": 0.3611770430340679,\n        \"min\": 0.0,\n        \"max\": 1.0,\n        \"num_unique_values\": 2,\n        \"samples\": [\n          1.0,\n          0.0\n        ],\n        \"semantic_type\": \"\",\n        \"description\": \"\"\n      }\n    }\n  ]\n}"
            }
          },
          "metadata": {},
          "execution_count": 3
        }
      ]
    },
    {
      "cell_type": "code",
      "source": [
        "shopping_data.shape"
      ],
      "metadata": {
        "colab": {
          "base_uri": "https://localhost:8080/"
        },
        "id": "GtFoIbu50WNU",
        "outputId": "434201d0-26d9-4cc1-f6d2-b9b066eec895"
      },
      "execution_count": 4,
      "outputs": [
        {
          "output_type": "execute_result",
          "data": {
            "text/plain": [
              "(12055, 15)"
            ]
          },
          "metadata": {},
          "execution_count": 4
        }
      ]
    },
    {
      "cell_type": "code",
      "source": [
        "shopping_data.isna().sum()"
      ],
      "metadata": {
        "colab": {
          "base_uri": "https://localhost:8080/",
          "height": 554
        },
        "id": "ur6ud80t0YXK",
        "outputId": "7d92754b-8ee7-4f27-e165-bdc422675c17"
      },
      "execution_count": 5,
      "outputs": [
        {
          "output_type": "execute_result",
          "data": {
            "text/plain": [
              "SessionID                  0\n",
              "Administrative             0\n",
              "Administrative_Duration    0\n",
              "Informational              0\n",
              "Informational_Duration     0\n",
              "ProductRelated             0\n",
              "ProductRelated_Duration    0\n",
              "BounceRates                0\n",
              "ExitRates                  0\n",
              "PageValues                 0\n",
              "SpecialDay                 0\n",
              "Weekend                    0\n",
              "Month                      0\n",
              "CustomerType               1\n",
              "Purchase                   1\n",
              "dtype: int64"
            ],
            "text/html": [
              "<div>\n",
              "<style scoped>\n",
              "    .dataframe tbody tr th:only-of-type {\n",
              "        vertical-align: middle;\n",
              "    }\n",
              "\n",
              "    .dataframe tbody tr th {\n",
              "        vertical-align: top;\n",
              "    }\n",
              "\n",
              "    .dataframe thead th {\n",
              "        text-align: right;\n",
              "    }\n",
              "</style>\n",
              "<table border=\"1\" class=\"dataframe\">\n",
              "  <thead>\n",
              "    <tr style=\"text-align: right;\">\n",
              "      <th></th>\n",
              "      <th>0</th>\n",
              "    </tr>\n",
              "  </thead>\n",
              "  <tbody>\n",
              "    <tr>\n",
              "      <th>SessionID</th>\n",
              "      <td>0</td>\n",
              "    </tr>\n",
              "    <tr>\n",
              "      <th>Administrative</th>\n",
              "      <td>0</td>\n",
              "    </tr>\n",
              "    <tr>\n",
              "      <th>Administrative_Duration</th>\n",
              "      <td>0</td>\n",
              "    </tr>\n",
              "    <tr>\n",
              "      <th>Informational</th>\n",
              "      <td>0</td>\n",
              "    </tr>\n",
              "    <tr>\n",
              "      <th>Informational_Duration</th>\n",
              "      <td>0</td>\n",
              "    </tr>\n",
              "    <tr>\n",
              "      <th>ProductRelated</th>\n",
              "      <td>0</td>\n",
              "    </tr>\n",
              "    <tr>\n",
              "      <th>ProductRelated_Duration</th>\n",
              "      <td>0</td>\n",
              "    </tr>\n",
              "    <tr>\n",
              "      <th>BounceRates</th>\n",
              "      <td>0</td>\n",
              "    </tr>\n",
              "    <tr>\n",
              "      <th>ExitRates</th>\n",
              "      <td>0</td>\n",
              "    </tr>\n",
              "    <tr>\n",
              "      <th>PageValues</th>\n",
              "      <td>0</td>\n",
              "    </tr>\n",
              "    <tr>\n",
              "      <th>SpecialDay</th>\n",
              "      <td>0</td>\n",
              "    </tr>\n",
              "    <tr>\n",
              "      <th>Weekend</th>\n",
              "      <td>0</td>\n",
              "    </tr>\n",
              "    <tr>\n",
              "      <th>Month</th>\n",
              "      <td>0</td>\n",
              "    </tr>\n",
              "    <tr>\n",
              "      <th>CustomerType</th>\n",
              "      <td>1</td>\n",
              "    </tr>\n",
              "    <tr>\n",
              "      <th>Purchase</th>\n",
              "      <td>1</td>\n",
              "    </tr>\n",
              "  </tbody>\n",
              "</table>\n",
              "</div><br><label><b>dtype:</b> int64</label>"
            ]
          },
          "metadata": {},
          "execution_count": 5
        }
      ]
    },
    {
      "cell_type": "code",
      "source": [
        "shopping_data.describe()"
      ],
      "metadata": {
        "colab": {
          "base_uri": "https://localhost:8080/",
          "height": 320
        },
        "id": "YKLcQsNj0gIE",
        "outputId": "c539c3b5-0f40-459b-eb9c-7bf70d6ad6c3"
      },
      "execution_count": 6,
      "outputs": [
        {
          "output_type": "execute_result",
          "data": {
            "text/plain": [
              "          SessionID  Administrative  Administrative_Duration  Informational  \\\n",
              "count  12055.000000    12055.000000             12055.000000   12055.000000   \n",
              "mean    6028.000000        2.320614                80.735481       0.505268   \n",
              "std     3480.123082        3.320123               175.766025       1.270637   \n",
              "min        1.000000        0.000000                 0.000000       0.000000   \n",
              "25%     3014.500000        0.000000                 0.000000       0.000000   \n",
              "50%     6028.000000        1.000000                 8.000000       0.000000   \n",
              "75%     9041.500000        4.000000                93.500000       0.000000   \n",
              "max    12055.000000       27.000000              3398.750000      24.000000   \n",
              "\n",
              "       Informational_Duration  ProductRelated  ProductRelated_Duration  \\\n",
              "count            12055.000000    12055.000000             12055.000000   \n",
              "mean                34.648971       31.688096              1191.743969   \n",
              "std                141.574000       44.371672              1912.521630   \n",
              "min                  0.000000        0.000000                 0.000000   \n",
              "25%                  0.000000        7.000000               185.000000   \n",
              "50%                  0.000000       18.000000               599.333333   \n",
              "75%                  0.000000       38.000000              1464.104809   \n",
              "max               2549.375000      705.000000             63973.522230   \n",
              "\n",
              "        BounceRates     ExitRates    PageValues    SpecialDay      Purchase  \n",
              "count  12055.000000  12055.000000  12055.000000  12055.000000  12054.000000  \n",
              "mean       0.022125      0.042977      5.793676      0.062829      0.154223  \n",
              "std        0.048277      0.048468     18.074742      0.200955      0.361177  \n",
              "min        0.000000      0.000000      0.000000      0.000000      0.000000  \n",
              "25%        0.000000      0.014286      0.000000      0.000000      0.000000  \n",
              "50%        0.003139      0.025068      0.000000      0.000000      0.000000  \n",
              "75%        0.016947      0.050000      0.000000      0.000000      0.000000  \n",
              "max        0.200000      0.200000    361.763742      1.000000      1.000000  "
            ],
            "text/html": [
              "\n",
              "  <div id=\"df-54c7b220-a7f9-4617-8038-37392514abd8\" class=\"colab-df-container\">\n",
              "    <div>\n",
              "<style scoped>\n",
              "    .dataframe tbody tr th:only-of-type {\n",
              "        vertical-align: middle;\n",
              "    }\n",
              "\n",
              "    .dataframe tbody tr th {\n",
              "        vertical-align: top;\n",
              "    }\n",
              "\n",
              "    .dataframe thead th {\n",
              "        text-align: right;\n",
              "    }\n",
              "</style>\n",
              "<table border=\"1\" class=\"dataframe\">\n",
              "  <thead>\n",
              "    <tr style=\"text-align: right;\">\n",
              "      <th></th>\n",
              "      <th>SessionID</th>\n",
              "      <th>Administrative</th>\n",
              "      <th>Administrative_Duration</th>\n",
              "      <th>Informational</th>\n",
              "      <th>Informational_Duration</th>\n",
              "      <th>ProductRelated</th>\n",
              "      <th>ProductRelated_Duration</th>\n",
              "      <th>BounceRates</th>\n",
              "      <th>ExitRates</th>\n",
              "      <th>PageValues</th>\n",
              "      <th>SpecialDay</th>\n",
              "      <th>Purchase</th>\n",
              "    </tr>\n",
              "  </thead>\n",
              "  <tbody>\n",
              "    <tr>\n",
              "      <th>count</th>\n",
              "      <td>12055.000000</td>\n",
              "      <td>12055.000000</td>\n",
              "      <td>12055.000000</td>\n",
              "      <td>12055.000000</td>\n",
              "      <td>12055.000000</td>\n",
              "      <td>12055.000000</td>\n",
              "      <td>12055.000000</td>\n",
              "      <td>12055.000000</td>\n",
              "      <td>12055.000000</td>\n",
              "      <td>12055.000000</td>\n",
              "      <td>12055.000000</td>\n",
              "      <td>12054.000000</td>\n",
              "    </tr>\n",
              "    <tr>\n",
              "      <th>mean</th>\n",
              "      <td>6028.000000</td>\n",
              "      <td>2.320614</td>\n",
              "      <td>80.735481</td>\n",
              "      <td>0.505268</td>\n",
              "      <td>34.648971</td>\n",
              "      <td>31.688096</td>\n",
              "      <td>1191.743969</td>\n",
              "      <td>0.022125</td>\n",
              "      <td>0.042977</td>\n",
              "      <td>5.793676</td>\n",
              "      <td>0.062829</td>\n",
              "      <td>0.154223</td>\n",
              "    </tr>\n",
              "    <tr>\n",
              "      <th>std</th>\n",
              "      <td>3480.123082</td>\n",
              "      <td>3.320123</td>\n",
              "      <td>175.766025</td>\n",
              "      <td>1.270637</td>\n",
              "      <td>141.574000</td>\n",
              "      <td>44.371672</td>\n",
              "      <td>1912.521630</td>\n",
              "      <td>0.048277</td>\n",
              "      <td>0.048468</td>\n",
              "      <td>18.074742</td>\n",
              "      <td>0.200955</td>\n",
              "      <td>0.361177</td>\n",
              "    </tr>\n",
              "    <tr>\n",
              "      <th>min</th>\n",
              "      <td>1.000000</td>\n",
              "      <td>0.000000</td>\n",
              "      <td>0.000000</td>\n",
              "      <td>0.000000</td>\n",
              "      <td>0.000000</td>\n",
              "      <td>0.000000</td>\n",
              "      <td>0.000000</td>\n",
              "      <td>0.000000</td>\n",
              "      <td>0.000000</td>\n",
              "      <td>0.000000</td>\n",
              "      <td>0.000000</td>\n",
              "      <td>0.000000</td>\n",
              "    </tr>\n",
              "    <tr>\n",
              "      <th>25%</th>\n",
              "      <td>3014.500000</td>\n",
              "      <td>0.000000</td>\n",
              "      <td>0.000000</td>\n",
              "      <td>0.000000</td>\n",
              "      <td>0.000000</td>\n",
              "      <td>7.000000</td>\n",
              "      <td>185.000000</td>\n",
              "      <td>0.000000</td>\n",
              "      <td>0.014286</td>\n",
              "      <td>0.000000</td>\n",
              "      <td>0.000000</td>\n",
              "      <td>0.000000</td>\n",
              "    </tr>\n",
              "    <tr>\n",
              "      <th>50%</th>\n",
              "      <td>6028.000000</td>\n",
              "      <td>1.000000</td>\n",
              "      <td>8.000000</td>\n",
              "      <td>0.000000</td>\n",
              "      <td>0.000000</td>\n",
              "      <td>18.000000</td>\n",
              "      <td>599.333333</td>\n",
              "      <td>0.003139</td>\n",
              "      <td>0.025068</td>\n",
              "      <td>0.000000</td>\n",
              "      <td>0.000000</td>\n",
              "      <td>0.000000</td>\n",
              "    </tr>\n",
              "    <tr>\n",
              "      <th>75%</th>\n",
              "      <td>9041.500000</td>\n",
              "      <td>4.000000</td>\n",
              "      <td>93.500000</td>\n",
              "      <td>0.000000</td>\n",
              "      <td>0.000000</td>\n",
              "      <td>38.000000</td>\n",
              "      <td>1464.104809</td>\n",
              "      <td>0.016947</td>\n",
              "      <td>0.050000</td>\n",
              "      <td>0.000000</td>\n",
              "      <td>0.000000</td>\n",
              "      <td>0.000000</td>\n",
              "    </tr>\n",
              "    <tr>\n",
              "      <th>max</th>\n",
              "      <td>12055.000000</td>\n",
              "      <td>27.000000</td>\n",
              "      <td>3398.750000</td>\n",
              "      <td>24.000000</td>\n",
              "      <td>2549.375000</td>\n",
              "      <td>705.000000</td>\n",
              "      <td>63973.522230</td>\n",
              "      <td>0.200000</td>\n",
              "      <td>0.200000</td>\n",
              "      <td>361.763742</td>\n",
              "      <td>1.000000</td>\n",
              "      <td>1.000000</td>\n",
              "    </tr>\n",
              "  </tbody>\n",
              "</table>\n",
              "</div>\n",
              "    <div class=\"colab-df-buttons\">\n",
              "\n",
              "  <div class=\"colab-df-container\">\n",
              "    <button class=\"colab-df-convert\" onclick=\"convertToInteractive('df-54c7b220-a7f9-4617-8038-37392514abd8')\"\n",
              "            title=\"Convert this dataframe to an interactive table.\"\n",
              "            style=\"display:none;\">\n",
              "\n",
              "  <svg xmlns=\"http://www.w3.org/2000/svg\" height=\"24px\" viewBox=\"0 -960 960 960\">\n",
              "    <path d=\"M120-120v-720h720v720H120Zm60-500h600v-160H180v160Zm220 220h160v-160H400v160Zm0 220h160v-160H400v160ZM180-400h160v-160H180v160Zm440 0h160v-160H620v160ZM180-180h160v-160H180v160Zm440 0h160v-160H620v160Z\"/>\n",
              "  </svg>\n",
              "    </button>\n",
              "\n",
              "  <style>\n",
              "    .colab-df-container {\n",
              "      display:flex;\n",
              "      gap: 12px;\n",
              "    }\n",
              "\n",
              "    .colab-df-convert {\n",
              "      background-color: #E8F0FE;\n",
              "      border: none;\n",
              "      border-radius: 50%;\n",
              "      cursor: pointer;\n",
              "      display: none;\n",
              "      fill: #1967D2;\n",
              "      height: 32px;\n",
              "      padding: 0 0 0 0;\n",
              "      width: 32px;\n",
              "    }\n",
              "\n",
              "    .colab-df-convert:hover {\n",
              "      background-color: #E2EBFA;\n",
              "      box-shadow: 0px 1px 2px rgba(60, 64, 67, 0.3), 0px 1px 3px 1px rgba(60, 64, 67, 0.15);\n",
              "      fill: #174EA6;\n",
              "    }\n",
              "\n",
              "    .colab-df-buttons div {\n",
              "      margin-bottom: 4px;\n",
              "    }\n",
              "\n",
              "    [theme=dark] .colab-df-convert {\n",
              "      background-color: #3B4455;\n",
              "      fill: #D2E3FC;\n",
              "    }\n",
              "\n",
              "    [theme=dark] .colab-df-convert:hover {\n",
              "      background-color: #434B5C;\n",
              "      box-shadow: 0px 1px 3px 1px rgba(0, 0, 0, 0.15);\n",
              "      filter: drop-shadow(0px 1px 2px rgba(0, 0, 0, 0.3));\n",
              "      fill: #FFFFFF;\n",
              "    }\n",
              "  </style>\n",
              "\n",
              "    <script>\n",
              "      const buttonEl =\n",
              "        document.querySelector('#df-54c7b220-a7f9-4617-8038-37392514abd8 button.colab-df-convert');\n",
              "      buttonEl.style.display =\n",
              "        google.colab.kernel.accessAllowed ? 'block' : 'none';\n",
              "\n",
              "      async function convertToInteractive(key) {\n",
              "        const element = document.querySelector('#df-54c7b220-a7f9-4617-8038-37392514abd8');\n",
              "        const dataTable =\n",
              "          await google.colab.kernel.invokeFunction('convertToInteractive',\n",
              "                                                    [key], {});\n",
              "        if (!dataTable) return;\n",
              "\n",
              "        const docLinkHtml = 'Like what you see? Visit the ' +\n",
              "          '<a target=\"_blank\" href=https://colab.research.google.com/notebooks/data_table.ipynb>data table notebook</a>'\n",
              "          + ' to learn more about interactive tables.';\n",
              "        element.innerHTML = '';\n",
              "        dataTable['output_type'] = 'display_data';\n",
              "        await google.colab.output.renderOutput(dataTable, element);\n",
              "        const docLink = document.createElement('div');\n",
              "        docLink.innerHTML = docLinkHtml;\n",
              "        element.appendChild(docLink);\n",
              "      }\n",
              "    </script>\n",
              "  </div>\n",
              "\n",
              "\n",
              "    <div id=\"df-f847a48a-04cd-4cfe-a878-15e6a732e2b4\">\n",
              "      <button class=\"colab-df-quickchart\" onclick=\"quickchart('df-f847a48a-04cd-4cfe-a878-15e6a732e2b4')\"\n",
              "                title=\"Suggest charts\"\n",
              "                style=\"display:none;\">\n",
              "\n",
              "<svg xmlns=\"http://www.w3.org/2000/svg\" height=\"24px\"viewBox=\"0 0 24 24\"\n",
              "     width=\"24px\">\n",
              "    <g>\n",
              "        <path d=\"M19 3H5c-1.1 0-2 .9-2 2v14c0 1.1.9 2 2 2h14c1.1 0 2-.9 2-2V5c0-1.1-.9-2-2-2zM9 17H7v-7h2v7zm4 0h-2V7h2v10zm4 0h-2v-4h2v4z\"/>\n",
              "    </g>\n",
              "</svg>\n",
              "      </button>\n",
              "\n",
              "<style>\n",
              "  .colab-df-quickchart {\n",
              "      --bg-color: #E8F0FE;\n",
              "      --fill-color: #1967D2;\n",
              "      --hover-bg-color: #E2EBFA;\n",
              "      --hover-fill-color: #174EA6;\n",
              "      --disabled-fill-color: #AAA;\n",
              "      --disabled-bg-color: #DDD;\n",
              "  }\n",
              "\n",
              "  [theme=dark] .colab-df-quickchart {\n",
              "      --bg-color: #3B4455;\n",
              "      --fill-color: #D2E3FC;\n",
              "      --hover-bg-color: #434B5C;\n",
              "      --hover-fill-color: #FFFFFF;\n",
              "      --disabled-bg-color: #3B4455;\n",
              "      --disabled-fill-color: #666;\n",
              "  }\n",
              "\n",
              "  .colab-df-quickchart {\n",
              "    background-color: var(--bg-color);\n",
              "    border: none;\n",
              "    border-radius: 50%;\n",
              "    cursor: pointer;\n",
              "    display: none;\n",
              "    fill: var(--fill-color);\n",
              "    height: 32px;\n",
              "    padding: 0;\n",
              "    width: 32px;\n",
              "  }\n",
              "\n",
              "  .colab-df-quickchart:hover {\n",
              "    background-color: var(--hover-bg-color);\n",
              "    box-shadow: 0 1px 2px rgba(60, 64, 67, 0.3), 0 1px 3px 1px rgba(60, 64, 67, 0.15);\n",
              "    fill: var(--button-hover-fill-color);\n",
              "  }\n",
              "\n",
              "  .colab-df-quickchart-complete:disabled,\n",
              "  .colab-df-quickchart-complete:disabled:hover {\n",
              "    background-color: var(--disabled-bg-color);\n",
              "    fill: var(--disabled-fill-color);\n",
              "    box-shadow: none;\n",
              "  }\n",
              "\n",
              "  .colab-df-spinner {\n",
              "    border: 2px solid var(--fill-color);\n",
              "    border-color: transparent;\n",
              "    border-bottom-color: var(--fill-color);\n",
              "    animation:\n",
              "      spin 1s steps(1) infinite;\n",
              "  }\n",
              "\n",
              "  @keyframes spin {\n",
              "    0% {\n",
              "      border-color: transparent;\n",
              "      border-bottom-color: var(--fill-color);\n",
              "      border-left-color: var(--fill-color);\n",
              "    }\n",
              "    20% {\n",
              "      border-color: transparent;\n",
              "      border-left-color: var(--fill-color);\n",
              "      border-top-color: var(--fill-color);\n",
              "    }\n",
              "    30% {\n",
              "      border-color: transparent;\n",
              "      border-left-color: var(--fill-color);\n",
              "      border-top-color: var(--fill-color);\n",
              "      border-right-color: var(--fill-color);\n",
              "    }\n",
              "    40% {\n",
              "      border-color: transparent;\n",
              "      border-right-color: var(--fill-color);\n",
              "      border-top-color: var(--fill-color);\n",
              "    }\n",
              "    60% {\n",
              "      border-color: transparent;\n",
              "      border-right-color: var(--fill-color);\n",
              "    }\n",
              "    80% {\n",
              "      border-color: transparent;\n",
              "      border-right-color: var(--fill-color);\n",
              "      border-bottom-color: var(--fill-color);\n",
              "    }\n",
              "    90% {\n",
              "      border-color: transparent;\n",
              "      border-bottom-color: var(--fill-color);\n",
              "    }\n",
              "  }\n",
              "</style>\n",
              "\n",
              "      <script>\n",
              "        async function quickchart(key) {\n",
              "          const quickchartButtonEl =\n",
              "            document.querySelector('#' + key + ' button');\n",
              "          quickchartButtonEl.disabled = true;  // To prevent multiple clicks.\n",
              "          quickchartButtonEl.classList.add('colab-df-spinner');\n",
              "          try {\n",
              "            const charts = await google.colab.kernel.invokeFunction(\n",
              "                'suggestCharts', [key], {});\n",
              "          } catch (error) {\n",
              "            console.error('Error during call to suggestCharts:', error);\n",
              "          }\n",
              "          quickchartButtonEl.classList.remove('colab-df-spinner');\n",
              "          quickchartButtonEl.classList.add('colab-df-quickchart-complete');\n",
              "        }\n",
              "        (() => {\n",
              "          let quickchartButtonEl =\n",
              "            document.querySelector('#df-f847a48a-04cd-4cfe-a878-15e6a732e2b4 button');\n",
              "          quickchartButtonEl.style.display =\n",
              "            google.colab.kernel.accessAllowed ? 'block' : 'none';\n",
              "        })();\n",
              "      </script>\n",
              "    </div>\n",
              "\n",
              "    </div>\n",
              "  </div>\n"
            ],
            "application/vnd.google.colaboratory.intrinsic+json": {
              "type": "dataframe",
              "summary": "{\n  \"name\": \"shopping_data\",\n  \"rows\": 8,\n  \"fields\": [\n    {\n      \"column\": \"SessionID\",\n      \"properties\": {\n        \"dtype\": \"number\",\n        \"std\": 4344.375528215936,\n        \"min\": 1.0,\n        \"max\": 12055.0,\n        \"num_unique_values\": 6,\n        \"samples\": [\n          12055.0,\n          6028.0,\n          9041.5\n        ],\n        \"semantic_type\": \"\",\n        \"description\": \"\"\n      }\n    },\n    {\n      \"column\": \"Administrative\",\n      \"properties\": {\n        \"dtype\": \"number\",\n        \"std\": 4260.194368648661,\n        \"min\": 0.0,\n        \"max\": 12055.0,\n        \"num_unique_values\": 7,\n        \"samples\": [\n          12055.0,\n          2.3206138531729574,\n          4.0\n        ],\n        \"semantic_type\": \"\",\n        \"description\": \"\"\n      }\n    },\n    {\n      \"column\": \"Administrative_Duration\",\n      \"properties\": {\n        \"dtype\": \"number\",\n        \"std\": 4237.0695569706295,\n        \"min\": 0.0,\n        \"max\": 12055.0,\n        \"num_unique_values\": 7,\n        \"samples\": [\n          12055.0,\n          80.73548078894002,\n          93.5\n        ],\n        \"semantic_type\": \"\",\n        \"description\": \"\"\n      }\n    },\n    {\n      \"column\": \"Informational\",\n      \"properties\": {\n        \"dtype\": \"number\",\n        \"std\": 4260.792340161048,\n        \"min\": 0.0,\n        \"max\": 12055.0,\n        \"num_unique_values\": 5,\n        \"samples\": [\n          0.5052675238490253,\n          24.0,\n          1.2706373555103916\n        ],\n        \"semantic_type\": \"\",\n        \"description\": \"\"\n      }\n    },\n    {\n      \"column\": \"Informational_Duration\",\n      \"properties\": {\n        \"dtype\": \"number\",\n        \"std\": 4217.90947021642,\n        \"min\": 0.0,\n        \"max\": 12055.0,\n        \"num_unique_values\": 5,\n        \"samples\": [\n          34.648970902244294,\n          2549.375,\n          141.57399985817543\n        ],\n        \"semantic_type\": \"\",\n        \"description\": \"\"\n      }\n    },\n    {\n      \"column\": \"ProductRelated\",\n      \"properties\": {\n        \"dtype\": \"number\",\n        \"std\": 4226.2212455920235,\n        \"min\": 0.0,\n        \"max\": 12055.0,\n        \"num_unique_values\": 8,\n        \"samples\": [\n          31.688096225632517,\n          18.0,\n          12055.0\n        ],\n        \"semantic_type\": \"\",\n        \"description\": \"\"\n      }\n    },\n    {\n      \"column\": \"ProductRelated_Duration\",\n      \"properties\": {\n        \"dtype\": \"number\",\n        \"std\": 22096.174846578895,\n        \"min\": 0.0,\n        \"max\": 63973.52223,\n        \"num_unique_values\": 8,\n        \"samples\": [\n          1191.743968795199,\n          599.3333333,\n          12055.0\n        ],\n        \"semantic_type\": \"\",\n        \"description\": \"\"\n      }\n    },\n    {\n      \"column\": \"BounceRates\",\n      \"properties\": {\n        \"dtype\": \"number\",\n        \"std\": 4262.071452314894,\n        \"min\": 0.0,\n        \"max\": 12055.0,\n        \"num_unique_values\": 7,\n        \"samples\": [\n          12055.0,\n          0.022124592681045212,\n          0.016947147000000003\n        ],\n        \"semantic_type\": \"\",\n        \"description\": \"\"\n      }\n    },\n    {\n      \"column\": \"ExitRates\",\n      \"properties\": {\n        \"dtype\": \"number\",\n        \"std\": 4262.066890847021,\n        \"min\": 0.0,\n        \"max\": 12055.0,\n        \"num_unique_values\": 8,\n        \"samples\": [\n          0.04297657201534633,\n          0.025068027,\n          12055.0\n        ],\n        \"semantic_type\": \"\",\n        \"description\": \"\"\n      }\n    },\n    {\n      \"column\": \"PageValues\",\n      \"properties\": {\n        \"dtype\": \"number\",\n        \"std\": 4244.460123863856,\n        \"min\": 0.0,\n        \"max\": 12055.0,\n        \"num_unique_values\": 5,\n        \"samples\": [\n          5.793675987708834,\n          361.7637419,\n          18.0747417516583\n        ],\n        \"semantic_type\": \"\",\n        \"description\": \"\"\n      }\n    },\n    {\n      \"column\": \"SpecialDay\",\n      \"properties\": {\n        \"dtype\": \"number\",\n        \"std\": 4262.022306585883,\n        \"min\": 0.0,\n        \"max\": 12055.0,\n        \"num_unique_values\": 5,\n        \"samples\": [\n          0.06282870178349234,\n          1.0,\n          0.20095457059971816\n        ],\n        \"semantic_type\": \"\",\n        \"description\": \"\"\n      }\n    },\n    {\n      \"column\": \"Purchase\",\n      \"properties\": {\n        \"dtype\": \"number\",\n        \"std\": 4261.656044815036,\n        \"min\": 0.0,\n        \"max\": 12054.0,\n        \"num_unique_values\": 5,\n        \"samples\": [\n          0.15422266467562634,\n          1.0,\n          0.3611770430340679\n        ],\n        \"semantic_type\": \"\",\n        \"description\": \"\"\n      }\n    }\n  ]\n}"
            }
          },
          "metadata": {},
          "execution_count": 6
        }
      ]
    },
    {
      "cell_type": "code",
      "source": [
        "shopping_data.dtypes"
      ],
      "metadata": {
        "colab": {
          "base_uri": "https://localhost:8080/",
          "height": 554
        },
        "id": "X3Vqpvbz0lYk",
        "outputId": "2e8be0fa-2436-4f55-bec3-90fb969592be"
      },
      "execution_count": 7,
      "outputs": [
        {
          "output_type": "execute_result",
          "data": {
            "text/plain": [
              "SessionID                    int64\n",
              "Administrative               int64\n",
              "Administrative_Duration    float64\n",
              "Informational                int64\n",
              "Informational_Duration     float64\n",
              "ProductRelated               int64\n",
              "ProductRelated_Duration    float64\n",
              "BounceRates                float64\n",
              "ExitRates                  float64\n",
              "PageValues                 float64\n",
              "SpecialDay                 float64\n",
              "Weekend                       bool\n",
              "Month                       object\n",
              "CustomerType                object\n",
              "Purchase                   float64\n",
              "dtype: object"
            ],
            "text/html": [
              "<div>\n",
              "<style scoped>\n",
              "    .dataframe tbody tr th:only-of-type {\n",
              "        vertical-align: middle;\n",
              "    }\n",
              "\n",
              "    .dataframe tbody tr th {\n",
              "        vertical-align: top;\n",
              "    }\n",
              "\n",
              "    .dataframe thead th {\n",
              "        text-align: right;\n",
              "    }\n",
              "</style>\n",
              "<table border=\"1\" class=\"dataframe\">\n",
              "  <thead>\n",
              "    <tr style=\"text-align: right;\">\n",
              "      <th></th>\n",
              "      <th>0</th>\n",
              "    </tr>\n",
              "  </thead>\n",
              "  <tbody>\n",
              "    <tr>\n",
              "      <th>SessionID</th>\n",
              "      <td>int64</td>\n",
              "    </tr>\n",
              "    <tr>\n",
              "      <th>Administrative</th>\n",
              "      <td>int64</td>\n",
              "    </tr>\n",
              "    <tr>\n",
              "      <th>Administrative_Duration</th>\n",
              "      <td>float64</td>\n",
              "    </tr>\n",
              "    <tr>\n",
              "      <th>Informational</th>\n",
              "      <td>int64</td>\n",
              "    </tr>\n",
              "    <tr>\n",
              "      <th>Informational_Duration</th>\n",
              "      <td>float64</td>\n",
              "    </tr>\n",
              "    <tr>\n",
              "      <th>ProductRelated</th>\n",
              "      <td>int64</td>\n",
              "    </tr>\n",
              "    <tr>\n",
              "      <th>ProductRelated_Duration</th>\n",
              "      <td>float64</td>\n",
              "    </tr>\n",
              "    <tr>\n",
              "      <th>BounceRates</th>\n",
              "      <td>float64</td>\n",
              "    </tr>\n",
              "    <tr>\n",
              "      <th>ExitRates</th>\n",
              "      <td>float64</td>\n",
              "    </tr>\n",
              "    <tr>\n",
              "      <th>PageValues</th>\n",
              "      <td>float64</td>\n",
              "    </tr>\n",
              "    <tr>\n",
              "      <th>SpecialDay</th>\n",
              "      <td>float64</td>\n",
              "    </tr>\n",
              "    <tr>\n",
              "      <th>Weekend</th>\n",
              "      <td>bool</td>\n",
              "    </tr>\n",
              "    <tr>\n",
              "      <th>Month</th>\n",
              "      <td>object</td>\n",
              "    </tr>\n",
              "    <tr>\n",
              "      <th>CustomerType</th>\n",
              "      <td>object</td>\n",
              "    </tr>\n",
              "    <tr>\n",
              "      <th>Purchase</th>\n",
              "      <td>float64</td>\n",
              "    </tr>\n",
              "  </tbody>\n",
              "</table>\n",
              "</div><br><label><b>dtype:</b> object</label>"
            ]
          },
          "metadata": {},
          "execution_count": 7
        }
      ]
    },
    {
      "cell_type": "markdown",
      "source": [
        "# **Validation**"
      ],
      "metadata": {
        "id": "X8CLCkqU0pcf"
      }
    },
    {
      "cell_type": "markdown",
      "source": [
        "**Numeric columns**"
      ],
      "metadata": {
        "id": "p-mmBedY2aty"
      }
    },
    {
      "cell_type": "code",
      "source": [
        "# Numeric columns\n",
        "numeric = shopping_data.select_dtypes(include=['number'])\n",
        "\n",
        "for col in numeric.columns:\n",
        "    try:\n",
        "        # Convert to numeric\n",
        "        pd.to_numeric(numeric[col], errors='raise')\n",
        "    except Exception:\n",
        "        # If failed, show the problematic rows\n",
        "        error = pd.to_numeric(numeric[col], errors='coerce').isna() & numeric[col].notna()\n",
        "        if error.any():\n",
        "            print(f\"Columna '{col}' tiene valores no numéricos en filas:\", numeric.index[mask].tolist())"
      ],
      "metadata": {
        "id": "kBPmmwto0tJL"
      },
      "execution_count": 8,
      "outputs": []
    },
    {
      "cell_type": "code",
      "source": [
        "numeric = shopping_data.select_dtypes(include=['number'])\n",
        "for col in numeric.columns:\n",
        "  print(f\"Number of unique values in {col} column:\", numeric[col].nunique())"
      ],
      "metadata": {
        "colab": {
          "base_uri": "https://localhost:8080/"
        },
        "id": "lj0xhw_k1Q4X",
        "outputId": "8dd2ffb4-9dbc-48bc-e1d5-40b0a905791f"
      },
      "execution_count": 9,
      "outputs": [
        {
          "output_type": "stream",
          "name": "stdout",
          "text": [
            "Number of unique values in SessionID column: 12055\n",
            "Number of unique values in Administrative column: 26\n",
            "Number of unique values in Administrative_Duration column: 3285\n",
            "Number of unique values in Informational column: 17\n",
            "Number of unique values in Informational_Duration column: 1240\n",
            "Number of unique values in ProductRelated column: 306\n",
            "Number of unique values in ProductRelated_Duration column: 9376\n",
            "Number of unique values in BounceRates column: 1841\n",
            "Number of unique values in ExitRates column: 4694\n",
            "Number of unique values in PageValues column: 2641\n",
            "Number of unique values in SpecialDay column: 6\n",
            "Number of unique values in Purchase column: 2\n"
          ]
        }
      ]
    },
    {
      "cell_type": "code",
      "source": [
        "shopping_data['Purchase'].unique()"
      ],
      "metadata": {
        "colab": {
          "base_uri": "https://localhost:8080/"
        },
        "id": "oJIzI1hs1_hR",
        "outputId": "45e920f9-4f07-49c4-f59e-543cb35c5558"
      },
      "execution_count": 16,
      "outputs": [
        {
          "output_type": "execute_result",
          "data": {
            "text/plain": [
              "array([ 0.,  1., nan])"
            ]
          },
          "metadata": {},
          "execution_count": 16
        }
      ]
    },
    {
      "cell_type": "markdown",
      "source": [
        "**Object columns**"
      ],
      "metadata": {
        "id": "Gd_yAIhs2gm4"
      }
    },
    {
      "cell_type": "code",
      "source": [
        "# Unique values in no numeric columns\n",
        "non_numeric = shopping_data.select_dtypes('object')\n",
        "for col in non_numeric.columns:\n",
        "  print(f\"Number of unique values in {col} column:\", non_numeric[col].nunique())"
      ],
      "metadata": {
        "colab": {
          "base_uri": "https://localhost:8080/"
        },
        "id": "MWFxZqhS1Yda",
        "outputId": "48877487-e043-41f0-92a3-bfc33274c3ab"
      },
      "execution_count": 10,
      "outputs": [
        {
          "output_type": "stream",
          "name": "stdout",
          "text": [
            "Number of unique values in Month column: 11\n",
            "Number of unique values in CustomerType column: 2\n"
          ]
        }
      ]
    },
    {
      "cell_type": "code",
      "source": [
        "shopping_data['Month'].unique()"
      ],
      "metadata": {
        "colab": {
          "base_uri": "https://localhost:8080/"
        },
        "id": "tHOo1K6B1dXS",
        "outputId": "009701c3-535a-4a75-97b4-d98747cec303"
      },
      "execution_count": 12,
      "outputs": [
        {
          "output_type": "execute_result",
          "data": {
            "text/plain": [
              "array(['Feb', 'Mar', 'May', 'Oct', 'June', 'Jul', 'Aug', 'Nov', 'Sep',\n",
              "       'Dec', 'N'], dtype=object)"
            ]
          },
          "metadata": {},
          "execution_count": 12
        }
      ]
    },
    {
      "cell_type": "code",
      "source": [
        "shopping_data['Month'].value_counts()"
      ],
      "metadata": {
        "colab": {
          "base_uri": "https://localhost:8080/",
          "height": 460
        },
        "id": "abmZJiwh1q2b",
        "outputId": "cfa30939-88f2-4612-bb91-d1ae886e5f2a"
      },
      "execution_count": 13,
      "outputs": [
        {
          "output_type": "execute_result",
          "data": {
            "text/plain": [
              "Month\n",
              "May     3364\n",
              "Nov     2861\n",
              "Mar     1907\n",
              "Dec     1589\n",
              "Oct      549\n",
              "Sep      448\n",
              "Aug      433\n",
              "Jul      432\n",
              "June     287\n",
              "Feb      184\n",
              "N          1\n",
              "Name: count, dtype: int64"
            ],
            "text/html": [
              "<div>\n",
              "<style scoped>\n",
              "    .dataframe tbody tr th:only-of-type {\n",
              "        vertical-align: middle;\n",
              "    }\n",
              "\n",
              "    .dataframe tbody tr th {\n",
              "        vertical-align: top;\n",
              "    }\n",
              "\n",
              "    .dataframe thead th {\n",
              "        text-align: right;\n",
              "    }\n",
              "</style>\n",
              "<table border=\"1\" class=\"dataframe\">\n",
              "  <thead>\n",
              "    <tr style=\"text-align: right;\">\n",
              "      <th></th>\n",
              "      <th>count</th>\n",
              "    </tr>\n",
              "    <tr>\n",
              "      <th>Month</th>\n",
              "      <th></th>\n",
              "    </tr>\n",
              "  </thead>\n",
              "  <tbody>\n",
              "    <tr>\n",
              "      <th>May</th>\n",
              "      <td>3364</td>\n",
              "    </tr>\n",
              "    <tr>\n",
              "      <th>Nov</th>\n",
              "      <td>2861</td>\n",
              "    </tr>\n",
              "    <tr>\n",
              "      <th>Mar</th>\n",
              "      <td>1907</td>\n",
              "    </tr>\n",
              "    <tr>\n",
              "      <th>Dec</th>\n",
              "      <td>1589</td>\n",
              "    </tr>\n",
              "    <tr>\n",
              "      <th>Oct</th>\n",
              "      <td>549</td>\n",
              "    </tr>\n",
              "    <tr>\n",
              "      <th>Sep</th>\n",
              "      <td>448</td>\n",
              "    </tr>\n",
              "    <tr>\n",
              "      <th>Aug</th>\n",
              "      <td>433</td>\n",
              "    </tr>\n",
              "    <tr>\n",
              "      <th>Jul</th>\n",
              "      <td>432</td>\n",
              "    </tr>\n",
              "    <tr>\n",
              "      <th>June</th>\n",
              "      <td>287</td>\n",
              "    </tr>\n",
              "    <tr>\n",
              "      <th>Feb</th>\n",
              "      <td>184</td>\n",
              "    </tr>\n",
              "    <tr>\n",
              "      <th>N</th>\n",
              "      <td>1</td>\n",
              "    </tr>\n",
              "  </tbody>\n",
              "</table>\n",
              "</div><br><label><b>dtype:</b> int64</label>"
            ]
          },
          "metadata": {},
          "execution_count": 13
        }
      ]
    },
    {
      "cell_type": "code",
      "source": [
        "shopping_data['CustomerType'].unique()"
      ],
      "metadata": {
        "colab": {
          "base_uri": "https://localhost:8080/"
        },
        "id": "w4_Zbz2O1wbc",
        "outputId": "1e7e7bd1-8860-4a04-ac50-2fe4811b1e9a"
      },
      "execution_count": 14,
      "outputs": [
        {
          "output_type": "execute_result",
          "data": {
            "text/plain": [
              "array(['Returning_Customer', 'New_Customer', nan], dtype=object)"
            ]
          },
          "metadata": {},
          "execution_count": 14
        }
      ]
    },
    {
      "cell_type": "code",
      "source": [
        "shopping_data['CustomerType'].value_counts()"
      ],
      "metadata": {
        "colab": {
          "base_uri": "https://localhost:8080/",
          "height": 178
        },
        "id": "7ZNTpjKh12Wo",
        "outputId": "7bd247b2-947d-4799-b22d-509d24e16116"
      },
      "execution_count": 15,
      "outputs": [
        {
          "output_type": "execute_result",
          "data": {
            "text/plain": [
              "CustomerType\n",
              "Returning_Customer    10386\n",
              "New_Customer           1668\n",
              "Name: count, dtype: int64"
            ],
            "text/html": [
              "<div>\n",
              "<style scoped>\n",
              "    .dataframe tbody tr th:only-of-type {\n",
              "        vertical-align: middle;\n",
              "    }\n",
              "\n",
              "    .dataframe tbody tr th {\n",
              "        vertical-align: top;\n",
              "    }\n",
              "\n",
              "    .dataframe thead th {\n",
              "        text-align: right;\n",
              "    }\n",
              "</style>\n",
              "<table border=\"1\" class=\"dataframe\">\n",
              "  <thead>\n",
              "    <tr style=\"text-align: right;\">\n",
              "      <th></th>\n",
              "      <th>count</th>\n",
              "    </tr>\n",
              "    <tr>\n",
              "      <th>CustomerType</th>\n",
              "      <th></th>\n",
              "    </tr>\n",
              "  </thead>\n",
              "  <tbody>\n",
              "    <tr>\n",
              "      <th>Returning_Customer</th>\n",
              "      <td>10386</td>\n",
              "    </tr>\n",
              "    <tr>\n",
              "      <th>New_Customer</th>\n",
              "      <td>1668</td>\n",
              "    </tr>\n",
              "  </tbody>\n",
              "</table>\n",
              "</div><br><label><b>dtype:</b> int64</label>"
            ]
          },
          "metadata": {},
          "execution_count": 15
        }
      ]
    },
    {
      "cell_type": "markdown",
      "source": [
        "**Duplicates values**"
      ],
      "metadata": {
        "id": "5eeZ4CEb2l4G"
      }
    },
    {
      "cell_type": "code",
      "source": [
        "# If there are duplicates\n",
        "shopping_data.duplicated().sum()"
      ],
      "metadata": {
        "colab": {
          "base_uri": "https://localhost:8080/"
        },
        "id": "mKZy4kpj2Hx8",
        "outputId": "7159992f-4207-4af2-970b-728d98d5fb4c"
      },
      "execution_count": 17,
      "outputs": [
        {
          "output_type": "execute_result",
          "data": {
            "text/plain": [
              "np.int64(0)"
            ]
          },
          "metadata": {},
          "execution_count": 17
        }
      ]
    },
    {
      "cell_type": "code",
      "source": [
        "shopping_data.duplicated(subset=['SessionID']).sum()"
      ],
      "metadata": {
        "colab": {
          "base_uri": "https://localhost:8080/"
        },
        "id": "DWMvsc8l2QFh",
        "outputId": "b21a349e-c89a-4afe-9235-400ae908f3cb"
      },
      "execution_count": 18,
      "outputs": [
        {
          "output_type": "execute_result",
          "data": {
            "text/plain": [
              "np.int64(0)"
            ]
          },
          "metadata": {},
          "execution_count": 18
        }
      ]
    },
    {
      "cell_type": "markdown",
      "source": [
        "**Missing values**"
      ],
      "metadata": {
        "id": "_6qCmYnd2p7S"
      }
    },
    {
      "cell_type": "code",
      "source": [
        "missing_customertype_purchase = shopping_data[shopping_data['CustomerType'].isna()]\n",
        "missing_customertype_purchase"
      ],
      "metadata": {
        "colab": {
          "base_uri": "https://localhost:8080/",
          "height": 109
        },
        "id": "tKRIlohl2tzf",
        "outputId": "5ec7fd66-d366-4b27-fdda-71b74e206f5f"
      },
      "execution_count": 19,
      "outputs": [
        {
          "output_type": "execute_result",
          "data": {
            "text/plain": [
              "       SessionID  Administrative  Administrative_Duration  Informational  \\\n",
              "12054      12055               1                     14.5              0   \n",
              "\n",
              "       Informational_Duration  ProductRelated  ProductRelated_Duration  \\\n",
              "12054                     0.0              24              1277.842857   \n",
              "\n",
              "       BounceRates  ExitRates  PageValues  SpecialDay  Weekend Month  \\\n",
              "12054          0.0   0.016074         0.0         0.0     True     N   \n",
              "\n",
              "      CustomerType  Purchase  \n",
              "12054          NaN       NaN  "
            ],
            "text/html": [
              "\n",
              "  <div id=\"df-b31d4661-a807-4fa5-9390-779c21ab4692\" class=\"colab-df-container\">\n",
              "    <div>\n",
              "<style scoped>\n",
              "    .dataframe tbody tr th:only-of-type {\n",
              "        vertical-align: middle;\n",
              "    }\n",
              "\n",
              "    .dataframe tbody tr th {\n",
              "        vertical-align: top;\n",
              "    }\n",
              "\n",
              "    .dataframe thead th {\n",
              "        text-align: right;\n",
              "    }\n",
              "</style>\n",
              "<table border=\"1\" class=\"dataframe\">\n",
              "  <thead>\n",
              "    <tr style=\"text-align: right;\">\n",
              "      <th></th>\n",
              "      <th>SessionID</th>\n",
              "      <th>Administrative</th>\n",
              "      <th>Administrative_Duration</th>\n",
              "      <th>Informational</th>\n",
              "      <th>Informational_Duration</th>\n",
              "      <th>ProductRelated</th>\n",
              "      <th>ProductRelated_Duration</th>\n",
              "      <th>BounceRates</th>\n",
              "      <th>ExitRates</th>\n",
              "      <th>PageValues</th>\n",
              "      <th>SpecialDay</th>\n",
              "      <th>Weekend</th>\n",
              "      <th>Month</th>\n",
              "      <th>CustomerType</th>\n",
              "      <th>Purchase</th>\n",
              "    </tr>\n",
              "  </thead>\n",
              "  <tbody>\n",
              "    <tr>\n",
              "      <th>12054</th>\n",
              "      <td>12055</td>\n",
              "      <td>1</td>\n",
              "      <td>14.5</td>\n",
              "      <td>0</td>\n",
              "      <td>0.0</td>\n",
              "      <td>24</td>\n",
              "      <td>1277.842857</td>\n",
              "      <td>0.0</td>\n",
              "      <td>0.016074</td>\n",
              "      <td>0.0</td>\n",
              "      <td>0.0</td>\n",
              "      <td>True</td>\n",
              "      <td>N</td>\n",
              "      <td>NaN</td>\n",
              "      <td>NaN</td>\n",
              "    </tr>\n",
              "  </tbody>\n",
              "</table>\n",
              "</div>\n",
              "    <div class=\"colab-df-buttons\">\n",
              "\n",
              "  <div class=\"colab-df-container\">\n",
              "    <button class=\"colab-df-convert\" onclick=\"convertToInteractive('df-b31d4661-a807-4fa5-9390-779c21ab4692')\"\n",
              "            title=\"Convert this dataframe to an interactive table.\"\n",
              "            style=\"display:none;\">\n",
              "\n",
              "  <svg xmlns=\"http://www.w3.org/2000/svg\" height=\"24px\" viewBox=\"0 -960 960 960\">\n",
              "    <path d=\"M120-120v-720h720v720H120Zm60-500h600v-160H180v160Zm220 220h160v-160H400v160Zm0 220h160v-160H400v160ZM180-400h160v-160H180v160Zm440 0h160v-160H620v160ZM180-180h160v-160H180v160Zm440 0h160v-160H620v160Z\"/>\n",
              "  </svg>\n",
              "    </button>\n",
              "\n",
              "  <style>\n",
              "    .colab-df-container {\n",
              "      display:flex;\n",
              "      gap: 12px;\n",
              "    }\n",
              "\n",
              "    .colab-df-convert {\n",
              "      background-color: #E8F0FE;\n",
              "      border: none;\n",
              "      border-radius: 50%;\n",
              "      cursor: pointer;\n",
              "      display: none;\n",
              "      fill: #1967D2;\n",
              "      height: 32px;\n",
              "      padding: 0 0 0 0;\n",
              "      width: 32px;\n",
              "    }\n",
              "\n",
              "    .colab-df-convert:hover {\n",
              "      background-color: #E2EBFA;\n",
              "      box-shadow: 0px 1px 2px rgba(60, 64, 67, 0.3), 0px 1px 3px 1px rgba(60, 64, 67, 0.15);\n",
              "      fill: #174EA6;\n",
              "    }\n",
              "\n",
              "    .colab-df-buttons div {\n",
              "      margin-bottom: 4px;\n",
              "    }\n",
              "\n",
              "    [theme=dark] .colab-df-convert {\n",
              "      background-color: #3B4455;\n",
              "      fill: #D2E3FC;\n",
              "    }\n",
              "\n",
              "    [theme=dark] .colab-df-convert:hover {\n",
              "      background-color: #434B5C;\n",
              "      box-shadow: 0px 1px 3px 1px rgba(0, 0, 0, 0.15);\n",
              "      filter: drop-shadow(0px 1px 2px rgba(0, 0, 0, 0.3));\n",
              "      fill: #FFFFFF;\n",
              "    }\n",
              "  </style>\n",
              "\n",
              "    <script>\n",
              "      const buttonEl =\n",
              "        document.querySelector('#df-b31d4661-a807-4fa5-9390-779c21ab4692 button.colab-df-convert');\n",
              "      buttonEl.style.display =\n",
              "        google.colab.kernel.accessAllowed ? 'block' : 'none';\n",
              "\n",
              "      async function convertToInteractive(key) {\n",
              "        const element = document.querySelector('#df-b31d4661-a807-4fa5-9390-779c21ab4692');\n",
              "        const dataTable =\n",
              "          await google.colab.kernel.invokeFunction('convertToInteractive',\n",
              "                                                    [key], {});\n",
              "        if (!dataTable) return;\n",
              "\n",
              "        const docLinkHtml = 'Like what you see? Visit the ' +\n",
              "          '<a target=\"_blank\" href=https://colab.research.google.com/notebooks/data_table.ipynb>data table notebook</a>'\n",
              "          + ' to learn more about interactive tables.';\n",
              "        element.innerHTML = '';\n",
              "        dataTable['output_type'] = 'display_data';\n",
              "        await google.colab.output.renderOutput(dataTable, element);\n",
              "        const docLink = document.createElement('div');\n",
              "        docLink.innerHTML = docLinkHtml;\n",
              "        element.appendChild(docLink);\n",
              "      }\n",
              "    </script>\n",
              "  </div>\n",
              "\n",
              "\n",
              "  <div id=\"id_2137fa8a-4af6-4ad7-9d69-aad885d27d0b\">\n",
              "    <style>\n",
              "      .colab-df-generate {\n",
              "        background-color: #E8F0FE;\n",
              "        border: none;\n",
              "        border-radius: 50%;\n",
              "        cursor: pointer;\n",
              "        display: none;\n",
              "        fill: #1967D2;\n",
              "        height: 32px;\n",
              "        padding: 0 0 0 0;\n",
              "        width: 32px;\n",
              "      }\n",
              "\n",
              "      .colab-df-generate:hover {\n",
              "        background-color: #E2EBFA;\n",
              "        box-shadow: 0px 1px 2px rgba(60, 64, 67, 0.3), 0px 1px 3px 1px rgba(60, 64, 67, 0.15);\n",
              "        fill: #174EA6;\n",
              "      }\n",
              "\n",
              "      [theme=dark] .colab-df-generate {\n",
              "        background-color: #3B4455;\n",
              "        fill: #D2E3FC;\n",
              "      }\n",
              "\n",
              "      [theme=dark] .colab-df-generate:hover {\n",
              "        background-color: #434B5C;\n",
              "        box-shadow: 0px 1px 3px 1px rgba(0, 0, 0, 0.15);\n",
              "        filter: drop-shadow(0px 1px 2px rgba(0, 0, 0, 0.3));\n",
              "        fill: #FFFFFF;\n",
              "      }\n",
              "    </style>\n",
              "    <button class=\"colab-df-generate\" onclick=\"generateWithVariable('missing_customertype_purchase')\"\n",
              "            title=\"Generate code using this dataframe.\"\n",
              "            style=\"display:none;\">\n",
              "\n",
              "  <svg xmlns=\"http://www.w3.org/2000/svg\" height=\"24px\"viewBox=\"0 0 24 24\"\n",
              "       width=\"24px\">\n",
              "    <path d=\"M7,19H8.4L18.45,9,17,7.55,7,17.6ZM5,21V16.75L18.45,3.32a2,2,0,0,1,2.83,0l1.4,1.43a1.91,1.91,0,0,1,.58,1.4,1.91,1.91,0,0,1-.58,1.4L9.25,21ZM18.45,9,17,7.55Zm-12,3A5.31,5.31,0,0,0,4.9,8.1,5.31,5.31,0,0,0,1,6.5,5.31,5.31,0,0,0,4.9,4.9,5.31,5.31,0,0,0,6.5,1,5.31,5.31,0,0,0,8.1,4.9,5.31,5.31,0,0,0,12,6.5,5.46,5.46,0,0,0,6.5,12Z\"/>\n",
              "  </svg>\n",
              "    </button>\n",
              "    <script>\n",
              "      (() => {\n",
              "      const buttonEl =\n",
              "        document.querySelector('#id_2137fa8a-4af6-4ad7-9d69-aad885d27d0b button.colab-df-generate');\n",
              "      buttonEl.style.display =\n",
              "        google.colab.kernel.accessAllowed ? 'block' : 'none';\n",
              "\n",
              "      buttonEl.onclick = () => {\n",
              "        google.colab.notebook.generateWithVariable('missing_customertype_purchase');\n",
              "      }\n",
              "      })();\n",
              "    </script>\n",
              "  </div>\n",
              "\n",
              "    </div>\n",
              "  </div>\n"
            ],
            "application/vnd.google.colaboratory.intrinsic+json": {
              "type": "dataframe",
              "variable_name": "missing_customertype_purchase",
              "repr_error": "0"
            }
          },
          "metadata": {},
          "execution_count": 19
        }
      ]
    },
    {
      "cell_type": "code",
      "source": [
        "# Dropping NaN values\n",
        "shopping_data = shopping_data.dropna()"
      ],
      "metadata": {
        "id": "FUHBWmtS24Qd"
      },
      "execution_count": 20,
      "outputs": []
    },
    {
      "cell_type": "code",
      "source": [
        "# Replacing June by Jun\n",
        "shopping_data['Month'] = shopping_data['Month'].str.replace(\"June\",\"Jun\")"
      ],
      "metadata": {
        "id": "3mN_pyxD3CsA"
      },
      "execution_count": 21,
      "outputs": []
    },
    {
      "cell_type": "code",
      "source": [
        "shopping_data.shape"
      ],
      "metadata": {
        "colab": {
          "base_uri": "https://localhost:8080/"
        },
        "id": "V7ncv4_Y3LxJ",
        "outputId": "0e37e0be-c1bd-44ad-f756-3df2505c5734"
      },
      "execution_count": 22,
      "outputs": [
        {
          "output_type": "execute_result",
          "data": {
            "text/plain": [
              "(12054, 15)"
            ]
          },
          "metadata": {},
          "execution_count": 22
        }
      ]
    },
    {
      "cell_type": "markdown",
      "source": [
        "Before cleaning and validation, the dataset contained 12055 rows and 15 columns. I validated all columns against the criteria in the dataset description.\n",
        "\n",
        "- SessionID: 12055 numeric unique values consistent with the description. No cleaning was needed.\n",
        "- Administrative: 26 numeric different values. No cleaning was needed.\n",
        "- Administrative_duration: 3285 numeric different values. No cleaning was needed.\n",
        "- Informational: 17 numeric different values. No cleaning was needed.\n",
        "- Informational_Duration: 1240 numeric different values. No cleaning was needed.\n",
        "- ProductRelated: 306 numeric different values. No cleaning was needed.\n",
        "- ProductRelated_Duration: 9376 numeric different values. No cleaning was needed.\n",
        "- BounceRates: 1841 numeric different values. No cleaning was needed.\n",
        "- ExitRates: 4694 numeric different values. No cleaning was needed.\n",
        "PageValues: 2641 numeric different values. No cleaning was needed.\n",
        "- SpecialDay: 6 numeric different values. No cleaning was needed.\n",
        "- Weekday: 2 different boolean values. No cleaning was needed.\n",
        "- Month: 11 different object values, cleaning was needed to replace June to Jun and one value \"N\" was drop with null values in CustomerType and Purchase due to one row with missing value is less than 5% of total dataframe.\n",
        "- CustomerType: 2 different object values with one null value. It was drop.\n",
        "- Purchase: 2 different numeric values with one null value. It was drop.\n",
        "\n",
        "After validation, the **dataset contains 12054 rows and 15 columns** with no missing values."
      ],
      "metadata": {
        "id": "ka25GscJ3Qr7"
      }
    },
    {
      "cell_type": "markdown",
      "source": [
        "# **Analysis**"
      ],
      "metadata": {
        "id": "BD5rmCK63lFe"
      }
    },
    {
      "cell_type": "markdown",
      "source": [
        "**What are the purchase rates for online shopping sessions by customer type for November and December?**"
      ],
      "metadata": {
        "id": "WDfguGSe3vEA"
      }
    },
    {
      "cell_type": "code",
      "source": [
        "nov_dec_shopping = shopping_data[shopping_data['Month'].isin(['Nov','Dec'])]\n",
        "nov_dec_shopping.head(10)"
      ],
      "metadata": {
        "colab": {
          "base_uri": "https://localhost:8080/",
          "height": 383
        },
        "id": "Ar2Yw88f3xwP",
        "outputId": "25e3def5-9d04-4ea8-90be-3487d045d7b4"
      },
      "execution_count": 25,
      "outputs": [
        {
          "output_type": "execute_result",
          "data": {
            "text/plain": [
              "      SessionID  Administrative  Administrative_Duration  Informational  \\\n",
              "5463       5464               1                39.200000              2   \n",
              "5464       5465               3                89.600000              0   \n",
              "5467       5468               4               204.200000              0   \n",
              "5479       5480               0                 0.000000              0   \n",
              "5494       5495               0                 0.000000              0   \n",
              "5497       5498              13              1013.056909              2   \n",
              "5507       5508               1                86.600000              0   \n",
              "5509       5510               6               545.650000              3   \n",
              "5510       5511               3                94.600000              0   \n",
              "5515       5516               6                82.140000              0   \n",
              "\n",
              "      Informational_Duration  ProductRelated  ProductRelated_Duration  \\\n",
              "5463              120.800000               7                80.500000   \n",
              "5464                0.000000              57              1721.906667   \n",
              "5467                0.000000              31               652.376667   \n",
              "5479                0.000000              13               710.066667   \n",
              "5494                0.000000              24               968.692424   \n",
              "5497              102.800000              77              2697.022104   \n",
              "5507                0.000000              14               349.576190   \n",
              "5509              204.346667              69              1182.432333   \n",
              "5510                0.000000              16              1254.000000   \n",
              "5515                0.000000              12               191.100000   \n",
              "\n",
              "      BounceRates  ExitRates  PageValues  SpecialDay  Weekend Month  \\\n",
              "5463     0.000000   0.010000    0.000000         0.0     True   Nov   \n",
              "5464     0.000000   0.005932  204.007949         0.0     True   Nov   \n",
              "5467     0.012121   0.016162    0.000000         0.0    False   Nov   \n",
              "5479     0.000000   0.007692   72.522838         0.0    False   Nov   \n",
              "5494     0.000000   0.000000  106.252517         0.0    False   Nov   \n",
              "5497     0.000000   0.009471    1.798670         0.0    False   Nov   \n",
              "5507     0.000000   0.004762   60.437378         0.0    False   Nov   \n",
              "5509     0.000685   0.002998   19.715295         0.0     True   Nov   \n",
              "5510     0.000000   0.019328    0.000000         0.0     True   Nov   \n",
              "5515     0.000000   0.012500    0.000000         0.0    False   Nov   \n",
              "\n",
              "            CustomerType  Purchase  \n",
              "5463        New_Customer       0.0  \n",
              "5464  Returning_Customer       1.0  \n",
              "5467  Returning_Customer       0.0  \n",
              "5479  Returning_Customer       1.0  \n",
              "5494  Returning_Customer       1.0  \n",
              "5497  Returning_Customer       0.0  \n",
              "5507        New_Customer       1.0  \n",
              "5509  Returning_Customer       1.0  \n",
              "5510        New_Customer       0.0  \n",
              "5515  Returning_Customer       0.0  "
            ],
            "text/html": [
              "\n",
              "  <div id=\"df-be13211b-13aa-4eca-9465-ef1688dd22e9\" class=\"colab-df-container\">\n",
              "    <div>\n",
              "<style scoped>\n",
              "    .dataframe tbody tr th:only-of-type {\n",
              "        vertical-align: middle;\n",
              "    }\n",
              "\n",
              "    .dataframe tbody tr th {\n",
              "        vertical-align: top;\n",
              "    }\n",
              "\n",
              "    .dataframe thead th {\n",
              "        text-align: right;\n",
              "    }\n",
              "</style>\n",
              "<table border=\"1\" class=\"dataframe\">\n",
              "  <thead>\n",
              "    <tr style=\"text-align: right;\">\n",
              "      <th></th>\n",
              "      <th>SessionID</th>\n",
              "      <th>Administrative</th>\n",
              "      <th>Administrative_Duration</th>\n",
              "      <th>Informational</th>\n",
              "      <th>Informational_Duration</th>\n",
              "      <th>ProductRelated</th>\n",
              "      <th>ProductRelated_Duration</th>\n",
              "      <th>BounceRates</th>\n",
              "      <th>ExitRates</th>\n",
              "      <th>PageValues</th>\n",
              "      <th>SpecialDay</th>\n",
              "      <th>Weekend</th>\n",
              "      <th>Month</th>\n",
              "      <th>CustomerType</th>\n",
              "      <th>Purchase</th>\n",
              "    </tr>\n",
              "  </thead>\n",
              "  <tbody>\n",
              "    <tr>\n",
              "      <th>5463</th>\n",
              "      <td>5464</td>\n",
              "      <td>1</td>\n",
              "      <td>39.200000</td>\n",
              "      <td>2</td>\n",
              "      <td>120.800000</td>\n",
              "      <td>7</td>\n",
              "      <td>80.500000</td>\n",
              "      <td>0.000000</td>\n",
              "      <td>0.010000</td>\n",
              "      <td>0.000000</td>\n",
              "      <td>0.0</td>\n",
              "      <td>True</td>\n",
              "      <td>Nov</td>\n",
              "      <td>New_Customer</td>\n",
              "      <td>0.0</td>\n",
              "    </tr>\n",
              "    <tr>\n",
              "      <th>5464</th>\n",
              "      <td>5465</td>\n",
              "      <td>3</td>\n",
              "      <td>89.600000</td>\n",
              "      <td>0</td>\n",
              "      <td>0.000000</td>\n",
              "      <td>57</td>\n",
              "      <td>1721.906667</td>\n",
              "      <td>0.000000</td>\n",
              "      <td>0.005932</td>\n",
              "      <td>204.007949</td>\n",
              "      <td>0.0</td>\n",
              "      <td>True</td>\n",
              "      <td>Nov</td>\n",
              "      <td>Returning_Customer</td>\n",
              "      <td>1.0</td>\n",
              "    </tr>\n",
              "    <tr>\n",
              "      <th>5467</th>\n",
              "      <td>5468</td>\n",
              "      <td>4</td>\n",
              "      <td>204.200000</td>\n",
              "      <td>0</td>\n",
              "      <td>0.000000</td>\n",
              "      <td>31</td>\n",
              "      <td>652.376667</td>\n",
              "      <td>0.012121</td>\n",
              "      <td>0.016162</td>\n",
              "      <td>0.000000</td>\n",
              "      <td>0.0</td>\n",
              "      <td>False</td>\n",
              "      <td>Nov</td>\n",
              "      <td>Returning_Customer</td>\n",
              "      <td>0.0</td>\n",
              "    </tr>\n",
              "    <tr>\n",
              "      <th>5479</th>\n",
              "      <td>5480</td>\n",
              "      <td>0</td>\n",
              "      <td>0.000000</td>\n",
              "      <td>0</td>\n",
              "      <td>0.000000</td>\n",
              "      <td>13</td>\n",
              "      <td>710.066667</td>\n",
              "      <td>0.000000</td>\n",
              "      <td>0.007692</td>\n",
              "      <td>72.522838</td>\n",
              "      <td>0.0</td>\n",
              "      <td>False</td>\n",
              "      <td>Nov</td>\n",
              "      <td>Returning_Customer</td>\n",
              "      <td>1.0</td>\n",
              "    </tr>\n",
              "    <tr>\n",
              "      <th>5494</th>\n",
              "      <td>5495</td>\n",
              "      <td>0</td>\n",
              "      <td>0.000000</td>\n",
              "      <td>0</td>\n",
              "      <td>0.000000</td>\n",
              "      <td>24</td>\n",
              "      <td>968.692424</td>\n",
              "      <td>0.000000</td>\n",
              "      <td>0.000000</td>\n",
              "      <td>106.252517</td>\n",
              "      <td>0.0</td>\n",
              "      <td>False</td>\n",
              "      <td>Nov</td>\n",
              "      <td>Returning_Customer</td>\n",
              "      <td>1.0</td>\n",
              "    </tr>\n",
              "    <tr>\n",
              "      <th>5497</th>\n",
              "      <td>5498</td>\n",
              "      <td>13</td>\n",
              "      <td>1013.056909</td>\n",
              "      <td>2</td>\n",
              "      <td>102.800000</td>\n",
              "      <td>77</td>\n",
              "      <td>2697.022104</td>\n",
              "      <td>0.000000</td>\n",
              "      <td>0.009471</td>\n",
              "      <td>1.798670</td>\n",
              "      <td>0.0</td>\n",
              "      <td>False</td>\n",
              "      <td>Nov</td>\n",
              "      <td>Returning_Customer</td>\n",
              "      <td>0.0</td>\n",
              "    </tr>\n",
              "    <tr>\n",
              "      <th>5507</th>\n",
              "      <td>5508</td>\n",
              "      <td>1</td>\n",
              "      <td>86.600000</td>\n",
              "      <td>0</td>\n",
              "      <td>0.000000</td>\n",
              "      <td>14</td>\n",
              "      <td>349.576190</td>\n",
              "      <td>0.000000</td>\n",
              "      <td>0.004762</td>\n",
              "      <td>60.437378</td>\n",
              "      <td>0.0</td>\n",
              "      <td>False</td>\n",
              "      <td>Nov</td>\n",
              "      <td>New_Customer</td>\n",
              "      <td>1.0</td>\n",
              "    </tr>\n",
              "    <tr>\n",
              "      <th>5509</th>\n",
              "      <td>5510</td>\n",
              "      <td>6</td>\n",
              "      <td>545.650000</td>\n",
              "      <td>3</td>\n",
              "      <td>204.346667</td>\n",
              "      <td>69</td>\n",
              "      <td>1182.432333</td>\n",
              "      <td>0.000685</td>\n",
              "      <td>0.002998</td>\n",
              "      <td>19.715295</td>\n",
              "      <td>0.0</td>\n",
              "      <td>True</td>\n",
              "      <td>Nov</td>\n",
              "      <td>Returning_Customer</td>\n",
              "      <td>1.0</td>\n",
              "    </tr>\n",
              "    <tr>\n",
              "      <th>5510</th>\n",
              "      <td>5511</td>\n",
              "      <td>3</td>\n",
              "      <td>94.600000</td>\n",
              "      <td>0</td>\n",
              "      <td>0.000000</td>\n",
              "      <td>16</td>\n",
              "      <td>1254.000000</td>\n",
              "      <td>0.000000</td>\n",
              "      <td>0.019328</td>\n",
              "      <td>0.000000</td>\n",
              "      <td>0.0</td>\n",
              "      <td>True</td>\n",
              "      <td>Nov</td>\n",
              "      <td>New_Customer</td>\n",
              "      <td>0.0</td>\n",
              "    </tr>\n",
              "    <tr>\n",
              "      <th>5515</th>\n",
              "      <td>5516</td>\n",
              "      <td>6</td>\n",
              "      <td>82.140000</td>\n",
              "      <td>0</td>\n",
              "      <td>0.000000</td>\n",
              "      <td>12</td>\n",
              "      <td>191.100000</td>\n",
              "      <td>0.000000</td>\n",
              "      <td>0.012500</td>\n",
              "      <td>0.000000</td>\n",
              "      <td>0.0</td>\n",
              "      <td>False</td>\n",
              "      <td>Nov</td>\n",
              "      <td>Returning_Customer</td>\n",
              "      <td>0.0</td>\n",
              "    </tr>\n",
              "  </tbody>\n",
              "</table>\n",
              "</div>\n",
              "    <div class=\"colab-df-buttons\">\n",
              "\n",
              "  <div class=\"colab-df-container\">\n",
              "    <button class=\"colab-df-convert\" onclick=\"convertToInteractive('df-be13211b-13aa-4eca-9465-ef1688dd22e9')\"\n",
              "            title=\"Convert this dataframe to an interactive table.\"\n",
              "            style=\"display:none;\">\n",
              "\n",
              "  <svg xmlns=\"http://www.w3.org/2000/svg\" height=\"24px\" viewBox=\"0 -960 960 960\">\n",
              "    <path d=\"M120-120v-720h720v720H120Zm60-500h600v-160H180v160Zm220 220h160v-160H400v160Zm0 220h160v-160H400v160ZM180-400h160v-160H180v160Zm440 0h160v-160H620v160ZM180-180h160v-160H180v160Zm440 0h160v-160H620v160Z\"/>\n",
              "  </svg>\n",
              "    </button>\n",
              "\n",
              "  <style>\n",
              "    .colab-df-container {\n",
              "      display:flex;\n",
              "      gap: 12px;\n",
              "    }\n",
              "\n",
              "    .colab-df-convert {\n",
              "      background-color: #E8F0FE;\n",
              "      border: none;\n",
              "      border-radius: 50%;\n",
              "      cursor: pointer;\n",
              "      display: none;\n",
              "      fill: #1967D2;\n",
              "      height: 32px;\n",
              "      padding: 0 0 0 0;\n",
              "      width: 32px;\n",
              "    }\n",
              "\n",
              "    .colab-df-convert:hover {\n",
              "      background-color: #E2EBFA;\n",
              "      box-shadow: 0px 1px 2px rgba(60, 64, 67, 0.3), 0px 1px 3px 1px rgba(60, 64, 67, 0.15);\n",
              "      fill: #174EA6;\n",
              "    }\n",
              "\n",
              "    .colab-df-buttons div {\n",
              "      margin-bottom: 4px;\n",
              "    }\n",
              "\n",
              "    [theme=dark] .colab-df-convert {\n",
              "      background-color: #3B4455;\n",
              "      fill: #D2E3FC;\n",
              "    }\n",
              "\n",
              "    [theme=dark] .colab-df-convert:hover {\n",
              "      background-color: #434B5C;\n",
              "      box-shadow: 0px 1px 3px 1px rgba(0, 0, 0, 0.15);\n",
              "      filter: drop-shadow(0px 1px 2px rgba(0, 0, 0, 0.3));\n",
              "      fill: #FFFFFF;\n",
              "    }\n",
              "  </style>\n",
              "\n",
              "    <script>\n",
              "      const buttonEl =\n",
              "        document.querySelector('#df-be13211b-13aa-4eca-9465-ef1688dd22e9 button.colab-df-convert');\n",
              "      buttonEl.style.display =\n",
              "        google.colab.kernel.accessAllowed ? 'block' : 'none';\n",
              "\n",
              "      async function convertToInteractive(key) {\n",
              "        const element = document.querySelector('#df-be13211b-13aa-4eca-9465-ef1688dd22e9');\n",
              "        const dataTable =\n",
              "          await google.colab.kernel.invokeFunction('convertToInteractive',\n",
              "                                                    [key], {});\n",
              "        if (!dataTable) return;\n",
              "\n",
              "        const docLinkHtml = 'Like what you see? Visit the ' +\n",
              "          '<a target=\"_blank\" href=https://colab.research.google.com/notebooks/data_table.ipynb>data table notebook</a>'\n",
              "          + ' to learn more about interactive tables.';\n",
              "        element.innerHTML = '';\n",
              "        dataTable['output_type'] = 'display_data';\n",
              "        await google.colab.output.renderOutput(dataTable, element);\n",
              "        const docLink = document.createElement('div');\n",
              "        docLink.innerHTML = docLinkHtml;\n",
              "        element.appendChild(docLink);\n",
              "      }\n",
              "    </script>\n",
              "  </div>\n",
              "\n",
              "\n",
              "    <div id=\"df-2b87b254-0da7-41fb-a297-db33415935af\">\n",
              "      <button class=\"colab-df-quickchart\" onclick=\"quickchart('df-2b87b254-0da7-41fb-a297-db33415935af')\"\n",
              "                title=\"Suggest charts\"\n",
              "                style=\"display:none;\">\n",
              "\n",
              "<svg xmlns=\"http://www.w3.org/2000/svg\" height=\"24px\"viewBox=\"0 0 24 24\"\n",
              "     width=\"24px\">\n",
              "    <g>\n",
              "        <path d=\"M19 3H5c-1.1 0-2 .9-2 2v14c0 1.1.9 2 2 2h14c1.1 0 2-.9 2-2V5c0-1.1-.9-2-2-2zM9 17H7v-7h2v7zm4 0h-2V7h2v10zm4 0h-2v-4h2v4z\"/>\n",
              "    </g>\n",
              "</svg>\n",
              "      </button>\n",
              "\n",
              "<style>\n",
              "  .colab-df-quickchart {\n",
              "      --bg-color: #E8F0FE;\n",
              "      --fill-color: #1967D2;\n",
              "      --hover-bg-color: #E2EBFA;\n",
              "      --hover-fill-color: #174EA6;\n",
              "      --disabled-fill-color: #AAA;\n",
              "      --disabled-bg-color: #DDD;\n",
              "  }\n",
              "\n",
              "  [theme=dark] .colab-df-quickchart {\n",
              "      --bg-color: #3B4455;\n",
              "      --fill-color: #D2E3FC;\n",
              "      --hover-bg-color: #434B5C;\n",
              "      --hover-fill-color: #FFFFFF;\n",
              "      --disabled-bg-color: #3B4455;\n",
              "      --disabled-fill-color: #666;\n",
              "  }\n",
              "\n",
              "  .colab-df-quickchart {\n",
              "    background-color: var(--bg-color);\n",
              "    border: none;\n",
              "    border-radius: 50%;\n",
              "    cursor: pointer;\n",
              "    display: none;\n",
              "    fill: var(--fill-color);\n",
              "    height: 32px;\n",
              "    padding: 0;\n",
              "    width: 32px;\n",
              "  }\n",
              "\n",
              "  .colab-df-quickchart:hover {\n",
              "    background-color: var(--hover-bg-color);\n",
              "    box-shadow: 0 1px 2px rgba(60, 64, 67, 0.3), 0 1px 3px 1px rgba(60, 64, 67, 0.15);\n",
              "    fill: var(--button-hover-fill-color);\n",
              "  }\n",
              "\n",
              "  .colab-df-quickchart-complete:disabled,\n",
              "  .colab-df-quickchart-complete:disabled:hover {\n",
              "    background-color: var(--disabled-bg-color);\n",
              "    fill: var(--disabled-fill-color);\n",
              "    box-shadow: none;\n",
              "  }\n",
              "\n",
              "  .colab-df-spinner {\n",
              "    border: 2px solid var(--fill-color);\n",
              "    border-color: transparent;\n",
              "    border-bottom-color: var(--fill-color);\n",
              "    animation:\n",
              "      spin 1s steps(1) infinite;\n",
              "  }\n",
              "\n",
              "  @keyframes spin {\n",
              "    0% {\n",
              "      border-color: transparent;\n",
              "      border-bottom-color: var(--fill-color);\n",
              "      border-left-color: var(--fill-color);\n",
              "    }\n",
              "    20% {\n",
              "      border-color: transparent;\n",
              "      border-left-color: var(--fill-color);\n",
              "      border-top-color: var(--fill-color);\n",
              "    }\n",
              "    30% {\n",
              "      border-color: transparent;\n",
              "      border-left-color: var(--fill-color);\n",
              "      border-top-color: var(--fill-color);\n",
              "      border-right-color: var(--fill-color);\n",
              "    }\n",
              "    40% {\n",
              "      border-color: transparent;\n",
              "      border-right-color: var(--fill-color);\n",
              "      border-top-color: var(--fill-color);\n",
              "    }\n",
              "    60% {\n",
              "      border-color: transparent;\n",
              "      border-right-color: var(--fill-color);\n",
              "    }\n",
              "    80% {\n",
              "      border-color: transparent;\n",
              "      border-right-color: var(--fill-color);\n",
              "      border-bottom-color: var(--fill-color);\n",
              "    }\n",
              "    90% {\n",
              "      border-color: transparent;\n",
              "      border-bottom-color: var(--fill-color);\n",
              "    }\n",
              "  }\n",
              "</style>\n",
              "\n",
              "      <script>\n",
              "        async function quickchart(key) {\n",
              "          const quickchartButtonEl =\n",
              "            document.querySelector('#' + key + ' button');\n",
              "          quickchartButtonEl.disabled = true;  // To prevent multiple clicks.\n",
              "          quickchartButtonEl.classList.add('colab-df-spinner');\n",
              "          try {\n",
              "            const charts = await google.colab.kernel.invokeFunction(\n",
              "                'suggestCharts', [key], {});\n",
              "          } catch (error) {\n",
              "            console.error('Error during call to suggestCharts:', error);\n",
              "          }\n",
              "          quickchartButtonEl.classList.remove('colab-df-spinner');\n",
              "          quickchartButtonEl.classList.add('colab-df-quickchart-complete');\n",
              "        }\n",
              "        (() => {\n",
              "          let quickchartButtonEl =\n",
              "            document.querySelector('#df-2b87b254-0da7-41fb-a297-db33415935af button');\n",
              "          quickchartButtonEl.style.display =\n",
              "            google.colab.kernel.accessAllowed ? 'block' : 'none';\n",
              "        })();\n",
              "      </script>\n",
              "    </div>\n",
              "\n",
              "    </div>\n",
              "  </div>\n"
            ],
            "application/vnd.google.colaboratory.intrinsic+json": {
              "type": "dataframe",
              "variable_name": "nov_dec_shopping",
              "summary": "{\n  \"name\": \"nov_dec_shopping\",\n  \"rows\": 4450,\n  \"fields\": [\n    {\n      \"column\": \"SessionID\",\n      \"properties\": {\n        \"dtype\": \"number\",\n        \"std\": 1458,\n        \"min\": 5464,\n        \"max\": 12054,\n        \"num_unique_values\": 4450,\n        \"samples\": [\n          8410,\n          11438,\n          10028\n        ],\n        \"semantic_type\": \"\",\n        \"description\": \"\"\n      }\n    },\n    {\n      \"column\": \"Administrative\",\n      \"properties\": {\n        \"dtype\": \"number\",\n        \"std\": 3,\n        \"min\": 0,\n        \"max\": 27,\n        \"num_unique_values\": 25,\n        \"samples\": [\n          9,\n          18,\n          1\n        ],\n        \"semantic_type\": \"\",\n        \"description\": \"\"\n      }\n    },\n    {\n      \"column\": \"Administrative_Duration\",\n      \"properties\": {\n        \"dtype\": \"number\",\n        \"std\": 184.57421640700244,\n        \"min\": 0.0,\n        \"max\": 3398.75,\n        \"num_unique_values\": 1591,\n        \"samples\": [\n          37.75,\n          643.8333333,\n          254.0\n        ],\n        \"semantic_type\": \"\",\n        \"description\": \"\"\n      }\n    },\n    {\n      \"column\": \"Informational\",\n      \"properties\": {\n        \"dtype\": \"number\",\n        \"std\": 1,\n        \"min\": 0,\n        \"max\": 14,\n        \"num_unique_values\": 14,\n        \"samples\": [\n          9,\n          12,\n          2\n        ],\n        \"semantic_type\": \"\",\n        \"description\": \"\"\n      }\n    },\n    {\n      \"column\": \"Informational_Duration\",\n      \"properties\": {\n        \"dtype\": \"number\",\n        \"std\": 162.58818240067836,\n        \"min\": 0.0,\n        \"max\": 2549.375,\n        \"num_unique_values\": 648,\n        \"samples\": [\n          225.3333333,\n          886.25,\n          376.5\n        ],\n        \"semantic_type\": \"\",\n        \"description\": \"\"\n      }\n    },\n    {\n      \"column\": \"ProductRelated\",\n      \"properties\": {\n        \"dtype\": \"number\",\n        \"std\": 53,\n        \"min\": 0,\n        \"max\": 584,\n        \"num_unique_values\": 265,\n        \"samples\": [\n          397,\n          391,\n          93\n        ],\n        \"semantic_type\": \"\",\n        \"description\": \"\"\n      }\n    },\n    {\n      \"column\": \"ProductRelated_Duration\",\n      \"properties\": {\n        \"dtype\": \"number\",\n        \"std\": 2353.3436231380997,\n        \"min\": 0.0,\n        \"max\": 63973.52223,\n        \"num_unique_values\": 3936,\n        \"samples\": [\n          3181.5,\n          1173.0,\n          2681.998105\n        ],\n        \"semantic_type\": \"\",\n        \"description\": \"\"\n      }\n    },\n    {\n      \"column\": \"BounceRates\",\n      \"properties\": {\n        \"dtype\": \"number\",\n        \"std\": 0.045282744882591576,\n        \"min\": 0.0,\n        \"max\": 0.2,\n        \"num_unique_values\": 1022,\n        \"samples\": [\n          0.001951952,\n          0.038927739,\n          0.0046875\n        ],\n        \"semantic_type\": \"\",\n        \"description\": \"\"\n      }\n    },\n    {\n      \"column\": \"ExitRates\",\n      \"properties\": {\n        \"dtype\": \"number\",\n        \"std\": 0.04532172726745615,\n        \"min\": 0.0,\n        \"max\": 0.2,\n        \"num_unique_values\": 2287,\n        \"samples\": [\n          0.019558305,\n          0.029169274,\n          0.023295607\n        ],\n        \"semantic_type\": \"\",\n        \"description\": \"\"\n      }\n    },\n    {\n      \"column\": \"PageValues\",\n      \"properties\": {\n        \"dtype\": \"number\",\n        \"std\": 20.737740866025085,\n        \"min\": 0.0,\n        \"max\": 361.7637419,\n        \"num_unique_values\": 1051,\n        \"samples\": [\n          6.064425698,\n          14.14084367,\n          88.95486906\n        ],\n        \"semantic_type\": \"\",\n        \"description\": \"\"\n      }\n    },\n    {\n      \"column\": \"SpecialDay\",\n      \"properties\": {\n        \"dtype\": \"number\",\n        \"std\": 0.0,\n        \"min\": 0.0,\n        \"max\": 0.0,\n        \"num_unique_values\": 1,\n        \"samples\": [\n          0.0\n        ],\n        \"semantic_type\": \"\",\n        \"description\": \"\"\n      }\n    },\n    {\n      \"column\": \"Weekend\",\n      \"properties\": {\n        \"dtype\": \"boolean\",\n        \"num_unique_values\": 2,\n        \"samples\": [\n          false\n        ],\n        \"semantic_type\": \"\",\n        \"description\": \"\"\n      }\n    },\n    {\n      \"column\": \"Month\",\n      \"properties\": {\n        \"dtype\": \"category\",\n        \"num_unique_values\": 2,\n        \"samples\": [\n          \"Dec\"\n        ],\n        \"semantic_type\": \"\",\n        \"description\": \"\"\n      }\n    },\n    {\n      \"column\": \"CustomerType\",\n      \"properties\": {\n        \"dtype\": \"category\",\n        \"num_unique_values\": 2,\n        \"samples\": [\n          \"Returning_Customer\"\n        ],\n        \"semantic_type\": \"\",\n        \"description\": \"\"\n      }\n    },\n    {\n      \"column\": \"Purchase\",\n      \"properties\": {\n        \"dtype\": \"number\",\n        \"std\": 0.40614861846508044,\n        \"min\": 0.0,\n        \"max\": 1.0,\n        \"num_unique_values\": 2,\n        \"samples\": [\n          1.0\n        ],\n        \"semantic_type\": \"\",\n        \"description\": \"\"\n      }\n    }\n  ]\n}"
            }
          },
          "metadata": {},
          "execution_count": 25
        }
      ]
    },
    {
      "cell_type": "code",
      "source": [
        "num_shopping_session = nov_dec_shopping.groupby(['CustomerType'])['Purchase'].value_counts()\n",
        "num_shopping_session"
      ],
      "metadata": {
        "colab": {
          "base_uri": "https://localhost:8080/",
          "height": 241
        },
        "id": "2Yj0YGX24I52",
        "outputId": "d9502e6f-8f1f-4562-eb8e-4f515d9e350a"
      },
      "execution_count": 26,
      "outputs": [
        {
          "output_type": "execute_result",
          "data": {
            "text/plain": [
              "CustomerType        Purchase\n",
              "New_Customer        0.0          529\n",
              "                    1.0          199\n",
              "Returning_Customer  0.0         2994\n",
              "                    1.0          728\n",
              "Name: count, dtype: int64"
            ],
            "text/html": [
              "<div>\n",
              "<style scoped>\n",
              "    .dataframe tbody tr th:only-of-type {\n",
              "        vertical-align: middle;\n",
              "    }\n",
              "\n",
              "    .dataframe tbody tr th {\n",
              "        vertical-align: top;\n",
              "    }\n",
              "\n",
              "    .dataframe thead th {\n",
              "        text-align: right;\n",
              "    }\n",
              "</style>\n",
              "<table border=\"1\" class=\"dataframe\">\n",
              "  <thead>\n",
              "    <tr style=\"text-align: right;\">\n",
              "      <th></th>\n",
              "      <th></th>\n",
              "      <th>count</th>\n",
              "    </tr>\n",
              "    <tr>\n",
              "      <th>CustomerType</th>\n",
              "      <th>Purchase</th>\n",
              "      <th></th>\n",
              "    </tr>\n",
              "  </thead>\n",
              "  <tbody>\n",
              "    <tr>\n",
              "      <th rowspan=\"2\" valign=\"top\">New_Customer</th>\n",
              "      <th>0.0</th>\n",
              "      <td>529</td>\n",
              "    </tr>\n",
              "    <tr>\n",
              "      <th>1.0</th>\n",
              "      <td>199</td>\n",
              "    </tr>\n",
              "    <tr>\n",
              "      <th rowspan=\"2\" valign=\"top\">Returning_Customer</th>\n",
              "      <th>0.0</th>\n",
              "      <td>2994</td>\n",
              "    </tr>\n",
              "    <tr>\n",
              "      <th>1.0</th>\n",
              "      <td>728</td>\n",
              "    </tr>\n",
              "  </tbody>\n",
              "</table>\n",
              "</div><br><label><b>dtype:</b> int64</label>"
            ]
          },
          "metadata": {},
          "execution_count": 26
        }
      ]
    },
    {
      "cell_type": "code",
      "source": [
        "# Total customer type\n",
        "total_new_customer = np.sum(num_shopping_session['New_Customer'])\n",
        "total_returning_customer = np.sum(num_shopping_session['Returning_Customer'])"
      ],
      "metadata": {
        "id": "C024RnkJ4OY0"
      },
      "execution_count": 27,
      "outputs": []
    },
    {
      "cell_type": "code",
      "source": [
        "# Total customer type that purchased\n",
        "new_customer_purchase = num_shopping_session[('New_Customer', 1)]\n",
        "returning_customer_purchase = num_shopping_session[('Returning_Customer', 1)]"
      ],
      "metadata": {
        "id": "A2_Cj14A4eAX"
      },
      "execution_count": 28,
      "outputs": []
    },
    {
      "cell_type": "code",
      "source": [
        "# Rates\n",
        "rate_new_customer_purchase = round(new_customer_purchase/total_new_customer,3)\n",
        "rate_returning_customer_purchase = round(returning_customer_purchase/total_returning_customer,3)"
      ],
      "metadata": {
        "id": "4QQwdiY44q84"
      },
      "execution_count": 29,
      "outputs": []
    },
    {
      "cell_type": "code",
      "source": [
        "purchase_rates = {\"Returning_Customer\": rate_returning_customer_purchase, \"New_Customer\": rate_new_customer_purchase}\n",
        "purchase_rates"
      ],
      "metadata": {
        "colab": {
          "base_uri": "https://localhost:8080/"
        },
        "id": "9Y9IABP44zNr",
        "outputId": "e0ed34ae-3642-49de-d70f-8af4d2afea3d"
      },
      "execution_count": 31,
      "outputs": [
        {
          "output_type": "execute_result",
          "data": {
            "text/plain": [
              "{'Returning_Customer': np.float64(0.196), 'New_Customer': np.float64(0.273)}"
            ]
          },
          "metadata": {},
          "execution_count": 31
        }
      ]
    },
    {
      "cell_type": "markdown",
      "source": [
        "The purchases rates are:\n",
        "- Returning customers: 19.6%\n",
        "- New customers: 27.3%"
      ],
      "metadata": {
        "id": "xNnf04Y77Llq"
      }
    },
    {
      "cell_type": "markdown",
      "source": [
        "**What is the strongest correlation in total time spent among page types by returning customers in November and December?**"
      ],
      "metadata": {
        "id": "TrBu2Uzt5Byo"
      }
    },
    {
      "cell_type": "code",
      "source": [
        "# Only Returning Customer in November and December\n",
        "customers_nov_dec_shopping = nov_dec_shopping[nov_dec_shopping['CustomerType'] == 'Returning_Customer']"
      ],
      "metadata": {
        "id": "-1JuZMul5Dzj"
      },
      "execution_count": 33,
      "outputs": []
    },
    {
      "cell_type": "code",
      "source": [
        "# Correlation between Administrative_Duration and Informational_Duration\n",
        "corr_admin_infor = round(customers_nov_dec_shopping['Administrative_Duration']\\\n",
        "                         .corr(customers_nov_dec_shopping['Informational_Duration']),3)\n",
        "corr_admin_infor"
      ],
      "metadata": {
        "colab": {
          "base_uri": "https://localhost:8080/"
        },
        "id": "80EAvx1S5XDb",
        "outputId": "ca09bcf7-661f-4097-a89d-3726fe5e502f"
      },
      "execution_count": 49,
      "outputs": [
        {
          "output_type": "execute_result",
          "data": {
            "text/plain": [
              "np.float64(0.258)"
            ]
          },
          "metadata": {},
          "execution_count": 49
        }
      ]
    },
    {
      "cell_type": "code",
      "source": [
        "# Correlation between Administrative_Duration and 'ProductRelated_Duration\n",
        "corr_admin_prod = round(customers_nov_dec_shopping['Administrative_Duration']\\\n",
        "                        .corr(customers_nov_dec_shopping['ProductRelated_Duration']),3)\n",
        "corr_admin_prod"
      ],
      "metadata": {
        "colab": {
          "base_uri": "https://localhost:8080/"
        },
        "id": "rM7LUr805nOe",
        "outputId": "4540469c-7bba-49d4-b46f-a08140f8dcac"
      },
      "execution_count": 50,
      "outputs": [
        {
          "output_type": "execute_result",
          "data": {
            "text/plain": [
              "np.float64(0.417)"
            ]
          },
          "metadata": {},
          "execution_count": 50
        }
      ]
    },
    {
      "cell_type": "code",
      "source": [
        "# Correlation between Informational_Duration and 'ProductRelated_Duration\n",
        "corr_infor_prod = round(customers_nov_dec_shopping['Informational_Duration']\\\n",
        "                        .corr(customers_nov_dec_shopping['ProductRelated_Duration']),3)\n",
        "corr_infor_prod"
      ],
      "metadata": {
        "colab": {
          "base_uri": "https://localhost:8080/"
        },
        "id": "KOAFN9z655hh",
        "outputId": "02e56293-2c2a-47a3-d35b-74b7f2293ace"
      },
      "execution_count": 51,
      "outputs": [
        {
          "output_type": "execute_result",
          "data": {
            "text/plain": [
              "np.float64(0.367)"
            ]
          },
          "metadata": {},
          "execution_count": 51
        }
      ]
    },
    {
      "cell_type": "code",
      "source": [
        "top_correlation = {\"pair\":('Administrative_Duration', 'ProductRelated_Duration'), \"correlation\":corr_admin_prod}\n",
        "top_correlation"
      ],
      "metadata": {
        "colab": {
          "base_uri": "https://localhost:8080/"
        },
        "id": "amIT8emv6K_a",
        "outputId": "b09ee7b0-caaa-47eb-c14f-35e77230581a"
      },
      "execution_count": 38,
      "outputs": [
        {
          "output_type": "execute_result",
          "data": {
            "text/plain": [
              "{'pair': ('Administrative_Duration', 'ProductRelated_Duration'),\n",
              " 'correlation': np.float64(0.417)}"
            ]
          },
          "metadata": {},
          "execution_count": 38
        }
      ]
    },
    {
      "cell_type": "markdown",
      "source": [
        "The strongest correlation in total time spent among page types is between:\n",
        "*Administrative Duration and Product Related Duration.*"
      ],
      "metadata": {
        "id": "GoXTBtv27mrc"
      }
    },
    {
      "cell_type": "markdown",
      "source": [
        "**What is the likelihood of achieving at least 100 sales out of 500 online shopping sessions for the returning customers?**"
      ],
      "metadata": {
        "id": "ZjTH3h2k6Rtf"
      }
    },
    {
      "cell_type": "code",
      "source": [
        "# Current rate purchase of returning customer\n",
        "rate_returning_customer_purchase"
      ],
      "metadata": {
        "colab": {
          "base_uri": "https://localhost:8080/"
        },
        "id": "Gi3V_HOY6SyR",
        "outputId": "a3857e16-3f53-4fa8-bea5-fb140dccd6be"
      },
      "execution_count": 40,
      "outputs": [
        {
          "output_type": "execute_result",
          "data": {
            "text/plain": [
              "np.float64(0.196)"
            ]
          },
          "metadata": {},
          "execution_count": 40
        }
      ]
    },
    {
      "cell_type": "code",
      "source": [
        "# Increase in 15% in the current rate purchase\n",
        "new_rate_objetive = rate_returning_customer_purchase * 0.15 + rate_returning_customer_purchase\n",
        "new_rate_objetive * 100"
      ],
      "metadata": {
        "colab": {
          "base_uri": "https://localhost:8080/"
        },
        "id": "OCmkcVE26gPq",
        "outputId": "63622fa7-ef05-4163-df52-fb9e15a8489a"
      },
      "execution_count": 43,
      "outputs": [
        {
          "output_type": "execute_result",
          "data": {
            "text/plain": [
              "np.float64(22.540000000000003)"
            ]
          },
          "metadata": {},
          "execution_count": 43
        }
      ]
    },
    {
      "cell_type": "code",
      "source": [
        "# Likelihood of having at leat 100 sales of 500 sessions\n",
        "prob_at_least_100_sales = 1 - stats.binom.cdf(100, 500, new_rate_objetive)\n",
        "prob_at_least_100_sales * 100"
      ],
      "metadata": {
        "colab": {
          "base_uri": "https://localhost:8080/"
        },
        "id": "gllh3cjV6ota",
        "outputId": "d87f1283-5443-4e8f-a18f-0ddf5622ed7a"
      },
      "execution_count": 44,
      "outputs": [
        {
          "output_type": "execute_result",
          "data": {
            "text/plain": [
              "np.float64(90.54494133589968)"
            ]
          },
          "metadata": {},
          "execution_count": 44
        }
      ]
    },
    {
      "cell_type": "markdown",
      "source": [
        "The likelihood of achieving 100 sales out of 500 online shopping sessions is: *90.54%*"
      ],
      "metadata": {
        "id": "XobMJ1ub79Bv"
      }
    }
  ]
}